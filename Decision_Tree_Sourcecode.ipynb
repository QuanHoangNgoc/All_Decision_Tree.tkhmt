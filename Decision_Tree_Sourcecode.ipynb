{
  "nbformat": 4,
  "nbformat_minor": 0,
  "metadata": {
    "colab": {
      "provenance": []
    },
    "kernelspec": {
      "name": "python3",
      "display_name": "Python 3"
    },
    "language_info": {
      "name": "python"
    }
  },
  "cells": [
    {
      "cell_type": "markdown",
      "source": [
        "# **Scratch**"
      ],
      "metadata": {
        "id": "o7cmgUQmqwLP"
      }
    },
    {
      "cell_type": "markdown",
      "source": [
        "- In this notebook, we will code to build a decion tree from scratch\n",
        "- Let's go"
      ],
      "metadata": {
        "id": "3Op85ZQwrArZ"
      }
    },
    {
      "cell_type": "markdown",
      "source": [
        "# **Data**"
      ],
      "metadata": {
        "id": "V3nwObv7hftM"
      }
    },
    {
      "cell_type": "code",
      "source": [
        "# get data from drive\n",
        "from google.colab import drive\n",
        "drive.mount('/content/drive')"
      ],
      "metadata": {
        "colab": {
          "base_uri": "https://localhost:8080/"
        },
        "id": "RIPuFK0gwqGN",
        "outputId": "84b7b8ea-eadd-4df7-8712-c20b6c35d711"
      },
      "execution_count": 1,
      "outputs": [
        {
          "output_type": "stream",
          "name": "stdout",
          "text": [
            "Drive already mounted at /content/drive; to attempt to forcibly remount, call drive.mount(\"/content/drive\", force_remount=True).\n"
          ]
        }
      ]
    },
    {
      "cell_type": "markdown",
      "source": [
        "## Import Libraries"
      ],
      "metadata": {
        "id": "0Mnt86EDrpUo"
      }
    },
    {
      "cell_type": "code",
      "source": [
        "import pandas as pd\n",
        "import numpy as np\n",
        "import matplotlib.pyplot as plt\n",
        "import seaborn as sns\n",
        "import sklearn\n",
        "from sklearn.tree import DecisionTreeClassifier\n",
        "from sklearn.ensemble import RandomForestClassifier\n",
        "from sklearn.model_selection import train_test_split\n",
        "from sklearn.metrics import accuracy_score, classification_report\n",
        "from xgboost import XGBClassifier"
      ],
      "metadata": {
        "id": "l8BsWxkDroaa"
      },
      "execution_count": 2,
      "outputs": []
    },
    {
      "cell_type": "markdown",
      "source": [
        "## Constant"
      ],
      "metadata": {
        "id": "GvzxITv61fo0"
      }
    },
    {
      "cell_type": "code",
      "source": [
        "RANDOM_STATE = 42\n",
        "SPLIT_RATE = 0.2"
      ],
      "metadata": {
        "id": "pJe8vyXO1hoO"
      },
      "execution_count": 3,
      "outputs": []
    },
    {
      "cell_type": "markdown",
      "source": [
        "## Load Dataset\n",
        "\n"
      ],
      "metadata": {
        "id": "XzKmCux-sBYw"
      }
    },
    {
      "cell_type": "markdown",
      "source": [
        "This dataset is obtained from Kaggle: [Heart Failure Prediction Dataset](https://www.kaggle.com/datasets/fedesoriano/heart-failure-prediction)"
      ],
      "metadata": {
        "id": "23h2Jxgiwjbj"
      }
    },
    {
      "cell_type": "code",
      "source": [
        "# load the dataset using pandas\n",
        "df = pd.read_csv(\"/content/drive/MyDrive/Colab Notebooks/heart.csv\")\n",
        "cat_variables = ['Sex',\n",
        "'ChestPainType',\n",
        "'RestingECG',\n",
        "'ExerciseAngina',\n",
        "'ST_Slope',\n",
        "]\n",
        "target_variable = ['HeartDisease']\n",
        "df = df.loc[:, target_variable + cat_variables]\n",
        "df"
      ],
      "metadata": {
        "colab": {
          "base_uri": "https://localhost:8080/",
          "height": 423
        },
        "id": "C3wj1FzCxbGv",
        "outputId": "c31a6d86-596f-42e6-f6f3-f63a2eb573f5"
      },
      "execution_count": 4,
      "outputs": [
        {
          "output_type": "execute_result",
          "data": {
            "text/plain": [
              "     HeartDisease Sex ChestPainType RestingECG ExerciseAngina ST_Slope\n",
              "0               0   M           ATA     Normal              N       Up\n",
              "1               1   F           NAP     Normal              N     Flat\n",
              "2               0   M           ATA         ST              N       Up\n",
              "3               1   F           ASY     Normal              Y     Flat\n",
              "4               0   M           NAP     Normal              N       Up\n",
              "..            ...  ..           ...        ...            ...      ...\n",
              "913             1   M            TA     Normal              N     Flat\n",
              "914             1   M           ASY     Normal              N     Flat\n",
              "915             1   M           ASY     Normal              Y     Flat\n",
              "916             1   F           ATA        LVH              N     Flat\n",
              "917             0   M           NAP     Normal              N       Up\n",
              "\n",
              "[918 rows x 6 columns]"
            ],
            "text/html": [
              "\n",
              "  <div id=\"df-9c9d398d-a564-41dc-b45e-dc9723c0d429\" class=\"colab-df-container\">\n",
              "    <div>\n",
              "<style scoped>\n",
              "    .dataframe tbody tr th:only-of-type {\n",
              "        vertical-align: middle;\n",
              "    }\n",
              "\n",
              "    .dataframe tbody tr th {\n",
              "        vertical-align: top;\n",
              "    }\n",
              "\n",
              "    .dataframe thead th {\n",
              "        text-align: right;\n",
              "    }\n",
              "</style>\n",
              "<table border=\"1\" class=\"dataframe\">\n",
              "  <thead>\n",
              "    <tr style=\"text-align: right;\">\n",
              "      <th></th>\n",
              "      <th>HeartDisease</th>\n",
              "      <th>Sex</th>\n",
              "      <th>ChestPainType</th>\n",
              "      <th>RestingECG</th>\n",
              "      <th>ExerciseAngina</th>\n",
              "      <th>ST_Slope</th>\n",
              "    </tr>\n",
              "  </thead>\n",
              "  <tbody>\n",
              "    <tr>\n",
              "      <th>0</th>\n",
              "      <td>0</td>\n",
              "      <td>M</td>\n",
              "      <td>ATA</td>\n",
              "      <td>Normal</td>\n",
              "      <td>N</td>\n",
              "      <td>Up</td>\n",
              "    </tr>\n",
              "    <tr>\n",
              "      <th>1</th>\n",
              "      <td>1</td>\n",
              "      <td>F</td>\n",
              "      <td>NAP</td>\n",
              "      <td>Normal</td>\n",
              "      <td>N</td>\n",
              "      <td>Flat</td>\n",
              "    </tr>\n",
              "    <tr>\n",
              "      <th>2</th>\n",
              "      <td>0</td>\n",
              "      <td>M</td>\n",
              "      <td>ATA</td>\n",
              "      <td>ST</td>\n",
              "      <td>N</td>\n",
              "      <td>Up</td>\n",
              "    </tr>\n",
              "    <tr>\n",
              "      <th>3</th>\n",
              "      <td>1</td>\n",
              "      <td>F</td>\n",
              "      <td>ASY</td>\n",
              "      <td>Normal</td>\n",
              "      <td>Y</td>\n",
              "      <td>Flat</td>\n",
              "    </tr>\n",
              "    <tr>\n",
              "      <th>4</th>\n",
              "      <td>0</td>\n",
              "      <td>M</td>\n",
              "      <td>NAP</td>\n",
              "      <td>Normal</td>\n",
              "      <td>N</td>\n",
              "      <td>Up</td>\n",
              "    </tr>\n",
              "    <tr>\n",
              "      <th>...</th>\n",
              "      <td>...</td>\n",
              "      <td>...</td>\n",
              "      <td>...</td>\n",
              "      <td>...</td>\n",
              "      <td>...</td>\n",
              "      <td>...</td>\n",
              "    </tr>\n",
              "    <tr>\n",
              "      <th>913</th>\n",
              "      <td>1</td>\n",
              "      <td>M</td>\n",
              "      <td>TA</td>\n",
              "      <td>Normal</td>\n",
              "      <td>N</td>\n",
              "      <td>Flat</td>\n",
              "    </tr>\n",
              "    <tr>\n",
              "      <th>914</th>\n",
              "      <td>1</td>\n",
              "      <td>M</td>\n",
              "      <td>ASY</td>\n",
              "      <td>Normal</td>\n",
              "      <td>N</td>\n",
              "      <td>Flat</td>\n",
              "    </tr>\n",
              "    <tr>\n",
              "      <th>915</th>\n",
              "      <td>1</td>\n",
              "      <td>M</td>\n",
              "      <td>ASY</td>\n",
              "      <td>Normal</td>\n",
              "      <td>Y</td>\n",
              "      <td>Flat</td>\n",
              "    </tr>\n",
              "    <tr>\n",
              "      <th>916</th>\n",
              "      <td>1</td>\n",
              "      <td>F</td>\n",
              "      <td>ATA</td>\n",
              "      <td>LVH</td>\n",
              "      <td>N</td>\n",
              "      <td>Flat</td>\n",
              "    </tr>\n",
              "    <tr>\n",
              "      <th>917</th>\n",
              "      <td>0</td>\n",
              "      <td>M</td>\n",
              "      <td>NAP</td>\n",
              "      <td>Normal</td>\n",
              "      <td>N</td>\n",
              "      <td>Up</td>\n",
              "    </tr>\n",
              "  </tbody>\n",
              "</table>\n",
              "<p>918 rows × 6 columns</p>\n",
              "</div>\n",
              "    <div class=\"colab-df-buttons\">\n",
              "\n",
              "  <div class=\"colab-df-container\">\n",
              "    <button class=\"colab-df-convert\" onclick=\"convertToInteractive('df-9c9d398d-a564-41dc-b45e-dc9723c0d429')\"\n",
              "            title=\"Convert this dataframe to an interactive table.\"\n",
              "            style=\"display:none;\">\n",
              "\n",
              "  <svg xmlns=\"http://www.w3.org/2000/svg\" height=\"24px\" viewBox=\"0 -960 960 960\">\n",
              "    <path d=\"M120-120v-720h720v720H120Zm60-500h600v-160H180v160Zm220 220h160v-160H400v160Zm0 220h160v-160H400v160ZM180-400h160v-160H180v160Zm440 0h160v-160H620v160ZM180-180h160v-160H180v160Zm440 0h160v-160H620v160Z\"/>\n",
              "  </svg>\n",
              "    </button>\n",
              "\n",
              "  <style>\n",
              "    .colab-df-container {\n",
              "      display:flex;\n",
              "      gap: 12px;\n",
              "    }\n",
              "\n",
              "    .colab-df-convert {\n",
              "      background-color: #E8F0FE;\n",
              "      border: none;\n",
              "      border-radius: 50%;\n",
              "      cursor: pointer;\n",
              "      display: none;\n",
              "      fill: #1967D2;\n",
              "      height: 32px;\n",
              "      padding: 0 0 0 0;\n",
              "      width: 32px;\n",
              "    }\n",
              "\n",
              "    .colab-df-convert:hover {\n",
              "      background-color: #E2EBFA;\n",
              "      box-shadow: 0px 1px 2px rgba(60, 64, 67, 0.3), 0px 1px 3px 1px rgba(60, 64, 67, 0.15);\n",
              "      fill: #174EA6;\n",
              "    }\n",
              "\n",
              "    .colab-df-buttons div {\n",
              "      margin-bottom: 4px;\n",
              "    }\n",
              "\n",
              "    [theme=dark] .colab-df-convert {\n",
              "      background-color: #3B4455;\n",
              "      fill: #D2E3FC;\n",
              "    }\n",
              "\n",
              "    [theme=dark] .colab-df-convert:hover {\n",
              "      background-color: #434B5C;\n",
              "      box-shadow: 0px 1px 3px 1px rgba(0, 0, 0, 0.15);\n",
              "      filter: drop-shadow(0px 1px 2px rgba(0, 0, 0, 0.3));\n",
              "      fill: #FFFFFF;\n",
              "    }\n",
              "  </style>\n",
              "\n",
              "    <script>\n",
              "      const buttonEl =\n",
              "        document.querySelector('#df-9c9d398d-a564-41dc-b45e-dc9723c0d429 button.colab-df-convert');\n",
              "      buttonEl.style.display =\n",
              "        google.colab.kernel.accessAllowed ? 'block' : 'none';\n",
              "\n",
              "      async function convertToInteractive(key) {\n",
              "        const element = document.querySelector('#df-9c9d398d-a564-41dc-b45e-dc9723c0d429');\n",
              "        const dataTable =\n",
              "          await google.colab.kernel.invokeFunction('convertToInteractive',\n",
              "                                                    [key], {});\n",
              "        if (!dataTable) return;\n",
              "\n",
              "        const docLinkHtml = 'Like what you see? Visit the ' +\n",
              "          '<a target=\"_blank\" href=https://colab.research.google.com/notebooks/data_table.ipynb>data table notebook</a>'\n",
              "          + ' to learn more about interactive tables.';\n",
              "        element.innerHTML = '';\n",
              "        dataTable['output_type'] = 'display_data';\n",
              "        await google.colab.output.renderOutput(dataTable, element);\n",
              "        const docLink = document.createElement('div');\n",
              "        docLink.innerHTML = docLinkHtml;\n",
              "        element.appendChild(docLink);\n",
              "      }\n",
              "    </script>\n",
              "  </div>\n",
              "\n",
              "\n",
              "<div id=\"df-8150faea-e85e-479b-bfa5-eb558aefc050\">\n",
              "  <button class=\"colab-df-quickchart\" onclick=\"quickchart('df-8150faea-e85e-479b-bfa5-eb558aefc050')\"\n",
              "            title=\"Suggest charts.\"\n",
              "            style=\"display:none;\">\n",
              "\n",
              "<svg xmlns=\"http://www.w3.org/2000/svg\" height=\"24px\"viewBox=\"0 0 24 24\"\n",
              "     width=\"24px\">\n",
              "    <g>\n",
              "        <path d=\"M19 3H5c-1.1 0-2 .9-2 2v14c0 1.1.9 2 2 2h14c1.1 0 2-.9 2-2V5c0-1.1-.9-2-2-2zM9 17H7v-7h2v7zm4 0h-2V7h2v10zm4 0h-2v-4h2v4z\"/>\n",
              "    </g>\n",
              "</svg>\n",
              "  </button>\n",
              "\n",
              "<style>\n",
              "  .colab-df-quickchart {\n",
              "      --bg-color: #E8F0FE;\n",
              "      --fill-color: #1967D2;\n",
              "      --hover-bg-color: #E2EBFA;\n",
              "      --hover-fill-color: #174EA6;\n",
              "      --disabled-fill-color: #AAA;\n",
              "      --disabled-bg-color: #DDD;\n",
              "  }\n",
              "\n",
              "  [theme=dark] .colab-df-quickchart {\n",
              "      --bg-color: #3B4455;\n",
              "      --fill-color: #D2E3FC;\n",
              "      --hover-bg-color: #434B5C;\n",
              "      --hover-fill-color: #FFFFFF;\n",
              "      --disabled-bg-color: #3B4455;\n",
              "      --disabled-fill-color: #666;\n",
              "  }\n",
              "\n",
              "  .colab-df-quickchart {\n",
              "    background-color: var(--bg-color);\n",
              "    border: none;\n",
              "    border-radius: 50%;\n",
              "    cursor: pointer;\n",
              "    display: none;\n",
              "    fill: var(--fill-color);\n",
              "    height: 32px;\n",
              "    padding: 0;\n",
              "    width: 32px;\n",
              "  }\n",
              "\n",
              "  .colab-df-quickchart:hover {\n",
              "    background-color: var(--hover-bg-color);\n",
              "    box-shadow: 0 1px 2px rgba(60, 64, 67, 0.3), 0 1px 3px 1px rgba(60, 64, 67, 0.15);\n",
              "    fill: var(--button-hover-fill-color);\n",
              "  }\n",
              "\n",
              "  .colab-df-quickchart-complete:disabled,\n",
              "  .colab-df-quickchart-complete:disabled:hover {\n",
              "    background-color: var(--disabled-bg-color);\n",
              "    fill: var(--disabled-fill-color);\n",
              "    box-shadow: none;\n",
              "  }\n",
              "\n",
              "  .colab-df-spinner {\n",
              "    border: 2px solid var(--fill-color);\n",
              "    border-color: transparent;\n",
              "    border-bottom-color: var(--fill-color);\n",
              "    animation:\n",
              "      spin 1s steps(1) infinite;\n",
              "  }\n",
              "\n",
              "  @keyframes spin {\n",
              "    0% {\n",
              "      border-color: transparent;\n",
              "      border-bottom-color: var(--fill-color);\n",
              "      border-left-color: var(--fill-color);\n",
              "    }\n",
              "    20% {\n",
              "      border-color: transparent;\n",
              "      border-left-color: var(--fill-color);\n",
              "      border-top-color: var(--fill-color);\n",
              "    }\n",
              "    30% {\n",
              "      border-color: transparent;\n",
              "      border-left-color: var(--fill-color);\n",
              "      border-top-color: var(--fill-color);\n",
              "      border-right-color: var(--fill-color);\n",
              "    }\n",
              "    40% {\n",
              "      border-color: transparent;\n",
              "      border-right-color: var(--fill-color);\n",
              "      border-top-color: var(--fill-color);\n",
              "    }\n",
              "    60% {\n",
              "      border-color: transparent;\n",
              "      border-right-color: var(--fill-color);\n",
              "    }\n",
              "    80% {\n",
              "      border-color: transparent;\n",
              "      border-right-color: var(--fill-color);\n",
              "      border-bottom-color: var(--fill-color);\n",
              "    }\n",
              "    90% {\n",
              "      border-color: transparent;\n",
              "      border-bottom-color: var(--fill-color);\n",
              "    }\n",
              "  }\n",
              "</style>\n",
              "\n",
              "  <script>\n",
              "    async function quickchart(key) {\n",
              "      const quickchartButtonEl =\n",
              "        document.querySelector('#' + key + ' button');\n",
              "      quickchartButtonEl.disabled = true;  // To prevent multiple clicks.\n",
              "      quickchartButtonEl.classList.add('colab-df-spinner');\n",
              "      try {\n",
              "        const charts = await google.colab.kernel.invokeFunction(\n",
              "            'suggestCharts', [key], {});\n",
              "      } catch (error) {\n",
              "        console.error('Error during call to suggestCharts:', error);\n",
              "      }\n",
              "      quickchartButtonEl.classList.remove('colab-df-spinner');\n",
              "      quickchartButtonEl.classList.add('colab-df-quickchart-complete');\n",
              "    }\n",
              "    (() => {\n",
              "      let quickchartButtonEl =\n",
              "        document.querySelector('#df-8150faea-e85e-479b-bfa5-eb558aefc050 button');\n",
              "      quickchartButtonEl.style.display =\n",
              "        google.colab.kernel.accessAllowed ? 'block' : 'none';\n",
              "    })();\n",
              "  </script>\n",
              "</div>\n",
              "    </div>\n",
              "  </div>\n"
            ]
          },
          "metadata": {},
          "execution_count": 4
        }
      ]
    },
    {
      "cell_type": "markdown",
      "source": [
        "- View data"
      ],
      "metadata": {
        "id": "WRUKVd11sbZu"
      }
    },
    {
      "cell_type": "code",
      "source": [
        "type(df)"
      ],
      "metadata": {
        "colab": {
          "base_uri": "https://localhost:8080/"
        },
        "id": "Wvj0YPA2ym8d",
        "outputId": "2bf087ac-71dc-4a0c-fc5e-da81020b460a"
      },
      "execution_count": 5,
      "outputs": [
        {
          "output_type": "execute_result",
          "data": {
            "text/plain": [
              "pandas.core.frame.DataFrame"
            ]
          },
          "metadata": {},
          "execution_count": 5
        }
      ]
    },
    {
      "cell_type": "code",
      "source": [
        "df.info()"
      ],
      "metadata": {
        "colab": {
          "base_uri": "https://localhost:8080/"
        },
        "id": "mEzZsFYEyzyN",
        "outputId": "a259ed4d-5989-4c0a-ce4d-cda38013f129"
      },
      "execution_count": 6,
      "outputs": [
        {
          "output_type": "stream",
          "name": "stdout",
          "text": [
            "<class 'pandas.core.frame.DataFrame'>\n",
            "RangeIndex: 918 entries, 0 to 917\n",
            "Data columns (total 6 columns):\n",
            " #   Column          Non-Null Count  Dtype \n",
            "---  ------          --------------  ----- \n",
            " 0   HeartDisease    918 non-null    int64 \n",
            " 1   Sex             918 non-null    object\n",
            " 2   ChestPainType   918 non-null    object\n",
            " 3   RestingECG      918 non-null    object\n",
            " 4   ExerciseAngina  918 non-null    object\n",
            " 5   ST_Slope        918 non-null    object\n",
            "dtypes: int64(1), object(5)\n",
            "memory usage: 43.2+ KB\n"
          ]
        }
      ]
    },
    {
      "cell_type": "code",
      "source": [
        "df.isna().sum()"
      ],
      "metadata": {
        "colab": {
          "base_uri": "https://localhost:8080/"
        },
        "id": "h0i6lYHkyg2d",
        "outputId": "2752aca6-abbb-4e4f-9ba6-2f72472ba6f8"
      },
      "execution_count": 7,
      "outputs": [
        {
          "output_type": "execute_result",
          "data": {
            "text/plain": [
              "HeartDisease      0\n",
              "Sex               0\n",
              "ChestPainType     0\n",
              "RestingECG        0\n",
              "ExerciseAngina    0\n",
              "ST_Slope          0\n",
              "dtype: int64"
            ]
          },
          "metadata": {},
          "execution_count": 7
        }
      ]
    },
    {
      "cell_type": "code",
      "source": [
        "df.shape"
      ],
      "metadata": {
        "colab": {
          "base_uri": "https://localhost:8080/"
        },
        "id": "ycD8qFYKycD_",
        "outputId": "ca298ba6-dbed-4a74-baf8-424b4f4bb28d"
      },
      "execution_count": 8,
      "outputs": [
        {
          "output_type": "execute_result",
          "data": {
            "text/plain": [
              "(918, 6)"
            ]
          },
          "metadata": {},
          "execution_count": 8
        }
      ]
    },
    {
      "cell_type": "markdown",
      "source": [
        "## OneHot Encoding"
      ],
      "metadata": {
        "id": "hPtVU-kCzAZc"
      }
    },
    {
      "cell_type": "code",
      "source": [
        "# This will replace the columns with the one-hot encoded ones and keep the columns outside 'columns' argument as it is.\n",
        "df = pd.get_dummies(data = df,\n",
        "                         prefix = cat_variables,\n",
        "                         columns = cat_variables)\n",
        "df"
      ],
      "metadata": {
        "colab": {
          "base_uri": "https://localhost:8080/",
          "height": 443
        },
        "id": "xGKjyNyazCv-",
        "outputId": "32aecb8f-dde3-4a9d-b95e-dce32cf0d4b6"
      },
      "execution_count": 9,
      "outputs": [
        {
          "output_type": "execute_result",
          "data": {
            "text/plain": [
              "     HeartDisease  Sex_F  Sex_M  ChestPainType_ASY  ChestPainType_ATA  \\\n",
              "0               0      0      1                  0                  1   \n",
              "1               1      1      0                  0                  0   \n",
              "2               0      0      1                  0                  1   \n",
              "3               1      1      0                  1                  0   \n",
              "4               0      0      1                  0                  0   \n",
              "..            ...    ...    ...                ...                ...   \n",
              "913             1      0      1                  0                  0   \n",
              "914             1      0      1                  1                  0   \n",
              "915             1      0      1                  1                  0   \n",
              "916             1      1      0                  0                  1   \n",
              "917             0      0      1                  0                  0   \n",
              "\n",
              "     ChestPainType_NAP  ChestPainType_TA  RestingECG_LVH  RestingECG_Normal  \\\n",
              "0                    0                 0               0                  1   \n",
              "1                    1                 0               0                  1   \n",
              "2                    0                 0               0                  0   \n",
              "3                    0                 0               0                  1   \n",
              "4                    1                 0               0                  1   \n",
              "..                 ...               ...             ...                ...   \n",
              "913                  0                 1               0                  1   \n",
              "914                  0                 0               0                  1   \n",
              "915                  0                 0               0                  1   \n",
              "916                  0                 0               1                  0   \n",
              "917                  1                 0               0                  1   \n",
              "\n",
              "     RestingECG_ST  ExerciseAngina_N  ExerciseAngina_Y  ST_Slope_Down  \\\n",
              "0                0                 1                 0              0   \n",
              "1                0                 1                 0              0   \n",
              "2                1                 1                 0              0   \n",
              "3                0                 0                 1              0   \n",
              "4                0                 1                 0              0   \n",
              "..             ...               ...               ...            ...   \n",
              "913              0                 1                 0              0   \n",
              "914              0                 1                 0              0   \n",
              "915              0                 0                 1              0   \n",
              "916              0                 1                 0              0   \n",
              "917              0                 1                 0              0   \n",
              "\n",
              "     ST_Slope_Flat  ST_Slope_Up  \n",
              "0                0            1  \n",
              "1                1            0  \n",
              "2                0            1  \n",
              "3                1            0  \n",
              "4                0            1  \n",
              "..             ...          ...  \n",
              "913              1            0  \n",
              "914              1            0  \n",
              "915              1            0  \n",
              "916              1            0  \n",
              "917              0            1  \n",
              "\n",
              "[918 rows x 15 columns]"
            ],
            "text/html": [
              "\n",
              "  <div id=\"df-a6f158e2-bf93-4d9a-890e-feca08225a68\" class=\"colab-df-container\">\n",
              "    <div>\n",
              "<style scoped>\n",
              "    .dataframe tbody tr th:only-of-type {\n",
              "        vertical-align: middle;\n",
              "    }\n",
              "\n",
              "    .dataframe tbody tr th {\n",
              "        vertical-align: top;\n",
              "    }\n",
              "\n",
              "    .dataframe thead th {\n",
              "        text-align: right;\n",
              "    }\n",
              "</style>\n",
              "<table border=\"1\" class=\"dataframe\">\n",
              "  <thead>\n",
              "    <tr style=\"text-align: right;\">\n",
              "      <th></th>\n",
              "      <th>HeartDisease</th>\n",
              "      <th>Sex_F</th>\n",
              "      <th>Sex_M</th>\n",
              "      <th>ChestPainType_ASY</th>\n",
              "      <th>ChestPainType_ATA</th>\n",
              "      <th>ChestPainType_NAP</th>\n",
              "      <th>ChestPainType_TA</th>\n",
              "      <th>RestingECG_LVH</th>\n",
              "      <th>RestingECG_Normal</th>\n",
              "      <th>RestingECG_ST</th>\n",
              "      <th>ExerciseAngina_N</th>\n",
              "      <th>ExerciseAngina_Y</th>\n",
              "      <th>ST_Slope_Down</th>\n",
              "      <th>ST_Slope_Flat</th>\n",
              "      <th>ST_Slope_Up</th>\n",
              "    </tr>\n",
              "  </thead>\n",
              "  <tbody>\n",
              "    <tr>\n",
              "      <th>0</th>\n",
              "      <td>0</td>\n",
              "      <td>0</td>\n",
              "      <td>1</td>\n",
              "      <td>0</td>\n",
              "      <td>1</td>\n",
              "      <td>0</td>\n",
              "      <td>0</td>\n",
              "      <td>0</td>\n",
              "      <td>1</td>\n",
              "      <td>0</td>\n",
              "      <td>1</td>\n",
              "      <td>0</td>\n",
              "      <td>0</td>\n",
              "      <td>0</td>\n",
              "      <td>1</td>\n",
              "    </tr>\n",
              "    <tr>\n",
              "      <th>1</th>\n",
              "      <td>1</td>\n",
              "      <td>1</td>\n",
              "      <td>0</td>\n",
              "      <td>0</td>\n",
              "      <td>0</td>\n",
              "      <td>1</td>\n",
              "      <td>0</td>\n",
              "      <td>0</td>\n",
              "      <td>1</td>\n",
              "      <td>0</td>\n",
              "      <td>1</td>\n",
              "      <td>0</td>\n",
              "      <td>0</td>\n",
              "      <td>1</td>\n",
              "      <td>0</td>\n",
              "    </tr>\n",
              "    <tr>\n",
              "      <th>2</th>\n",
              "      <td>0</td>\n",
              "      <td>0</td>\n",
              "      <td>1</td>\n",
              "      <td>0</td>\n",
              "      <td>1</td>\n",
              "      <td>0</td>\n",
              "      <td>0</td>\n",
              "      <td>0</td>\n",
              "      <td>0</td>\n",
              "      <td>1</td>\n",
              "      <td>1</td>\n",
              "      <td>0</td>\n",
              "      <td>0</td>\n",
              "      <td>0</td>\n",
              "      <td>1</td>\n",
              "    </tr>\n",
              "    <tr>\n",
              "      <th>3</th>\n",
              "      <td>1</td>\n",
              "      <td>1</td>\n",
              "      <td>0</td>\n",
              "      <td>1</td>\n",
              "      <td>0</td>\n",
              "      <td>0</td>\n",
              "      <td>0</td>\n",
              "      <td>0</td>\n",
              "      <td>1</td>\n",
              "      <td>0</td>\n",
              "      <td>0</td>\n",
              "      <td>1</td>\n",
              "      <td>0</td>\n",
              "      <td>1</td>\n",
              "      <td>0</td>\n",
              "    </tr>\n",
              "    <tr>\n",
              "      <th>4</th>\n",
              "      <td>0</td>\n",
              "      <td>0</td>\n",
              "      <td>1</td>\n",
              "      <td>0</td>\n",
              "      <td>0</td>\n",
              "      <td>1</td>\n",
              "      <td>0</td>\n",
              "      <td>0</td>\n",
              "      <td>1</td>\n",
              "      <td>0</td>\n",
              "      <td>1</td>\n",
              "      <td>0</td>\n",
              "      <td>0</td>\n",
              "      <td>0</td>\n",
              "      <td>1</td>\n",
              "    </tr>\n",
              "    <tr>\n",
              "      <th>...</th>\n",
              "      <td>...</td>\n",
              "      <td>...</td>\n",
              "      <td>...</td>\n",
              "      <td>...</td>\n",
              "      <td>...</td>\n",
              "      <td>...</td>\n",
              "      <td>...</td>\n",
              "      <td>...</td>\n",
              "      <td>...</td>\n",
              "      <td>...</td>\n",
              "      <td>...</td>\n",
              "      <td>...</td>\n",
              "      <td>...</td>\n",
              "      <td>...</td>\n",
              "      <td>...</td>\n",
              "    </tr>\n",
              "    <tr>\n",
              "      <th>913</th>\n",
              "      <td>1</td>\n",
              "      <td>0</td>\n",
              "      <td>1</td>\n",
              "      <td>0</td>\n",
              "      <td>0</td>\n",
              "      <td>0</td>\n",
              "      <td>1</td>\n",
              "      <td>0</td>\n",
              "      <td>1</td>\n",
              "      <td>0</td>\n",
              "      <td>1</td>\n",
              "      <td>0</td>\n",
              "      <td>0</td>\n",
              "      <td>1</td>\n",
              "      <td>0</td>\n",
              "    </tr>\n",
              "    <tr>\n",
              "      <th>914</th>\n",
              "      <td>1</td>\n",
              "      <td>0</td>\n",
              "      <td>1</td>\n",
              "      <td>1</td>\n",
              "      <td>0</td>\n",
              "      <td>0</td>\n",
              "      <td>0</td>\n",
              "      <td>0</td>\n",
              "      <td>1</td>\n",
              "      <td>0</td>\n",
              "      <td>1</td>\n",
              "      <td>0</td>\n",
              "      <td>0</td>\n",
              "      <td>1</td>\n",
              "      <td>0</td>\n",
              "    </tr>\n",
              "    <tr>\n",
              "      <th>915</th>\n",
              "      <td>1</td>\n",
              "      <td>0</td>\n",
              "      <td>1</td>\n",
              "      <td>1</td>\n",
              "      <td>0</td>\n",
              "      <td>0</td>\n",
              "      <td>0</td>\n",
              "      <td>0</td>\n",
              "      <td>1</td>\n",
              "      <td>0</td>\n",
              "      <td>0</td>\n",
              "      <td>1</td>\n",
              "      <td>0</td>\n",
              "      <td>1</td>\n",
              "      <td>0</td>\n",
              "    </tr>\n",
              "    <tr>\n",
              "      <th>916</th>\n",
              "      <td>1</td>\n",
              "      <td>1</td>\n",
              "      <td>0</td>\n",
              "      <td>0</td>\n",
              "      <td>1</td>\n",
              "      <td>0</td>\n",
              "      <td>0</td>\n",
              "      <td>1</td>\n",
              "      <td>0</td>\n",
              "      <td>0</td>\n",
              "      <td>1</td>\n",
              "      <td>0</td>\n",
              "      <td>0</td>\n",
              "      <td>1</td>\n",
              "      <td>0</td>\n",
              "    </tr>\n",
              "    <tr>\n",
              "      <th>917</th>\n",
              "      <td>0</td>\n",
              "      <td>0</td>\n",
              "      <td>1</td>\n",
              "      <td>0</td>\n",
              "      <td>0</td>\n",
              "      <td>1</td>\n",
              "      <td>0</td>\n",
              "      <td>0</td>\n",
              "      <td>1</td>\n",
              "      <td>0</td>\n",
              "      <td>1</td>\n",
              "      <td>0</td>\n",
              "      <td>0</td>\n",
              "      <td>0</td>\n",
              "      <td>1</td>\n",
              "    </tr>\n",
              "  </tbody>\n",
              "</table>\n",
              "<p>918 rows × 15 columns</p>\n",
              "</div>\n",
              "    <div class=\"colab-df-buttons\">\n",
              "\n",
              "  <div class=\"colab-df-container\">\n",
              "    <button class=\"colab-df-convert\" onclick=\"convertToInteractive('df-a6f158e2-bf93-4d9a-890e-feca08225a68')\"\n",
              "            title=\"Convert this dataframe to an interactive table.\"\n",
              "            style=\"display:none;\">\n",
              "\n",
              "  <svg xmlns=\"http://www.w3.org/2000/svg\" height=\"24px\" viewBox=\"0 -960 960 960\">\n",
              "    <path d=\"M120-120v-720h720v720H120Zm60-500h600v-160H180v160Zm220 220h160v-160H400v160Zm0 220h160v-160H400v160ZM180-400h160v-160H180v160Zm440 0h160v-160H620v160ZM180-180h160v-160H180v160Zm440 0h160v-160H620v160Z\"/>\n",
              "  </svg>\n",
              "    </button>\n",
              "\n",
              "  <style>\n",
              "    .colab-df-container {\n",
              "      display:flex;\n",
              "      gap: 12px;\n",
              "    }\n",
              "\n",
              "    .colab-df-convert {\n",
              "      background-color: #E8F0FE;\n",
              "      border: none;\n",
              "      border-radius: 50%;\n",
              "      cursor: pointer;\n",
              "      display: none;\n",
              "      fill: #1967D2;\n",
              "      height: 32px;\n",
              "      padding: 0 0 0 0;\n",
              "      width: 32px;\n",
              "    }\n",
              "\n",
              "    .colab-df-convert:hover {\n",
              "      background-color: #E2EBFA;\n",
              "      box-shadow: 0px 1px 2px rgba(60, 64, 67, 0.3), 0px 1px 3px 1px rgba(60, 64, 67, 0.15);\n",
              "      fill: #174EA6;\n",
              "    }\n",
              "\n",
              "    .colab-df-buttons div {\n",
              "      margin-bottom: 4px;\n",
              "    }\n",
              "\n",
              "    [theme=dark] .colab-df-convert {\n",
              "      background-color: #3B4455;\n",
              "      fill: #D2E3FC;\n",
              "    }\n",
              "\n",
              "    [theme=dark] .colab-df-convert:hover {\n",
              "      background-color: #434B5C;\n",
              "      box-shadow: 0px 1px 3px 1px rgba(0, 0, 0, 0.15);\n",
              "      filter: drop-shadow(0px 1px 2px rgba(0, 0, 0, 0.3));\n",
              "      fill: #FFFFFF;\n",
              "    }\n",
              "  </style>\n",
              "\n",
              "    <script>\n",
              "      const buttonEl =\n",
              "        document.querySelector('#df-a6f158e2-bf93-4d9a-890e-feca08225a68 button.colab-df-convert');\n",
              "      buttonEl.style.display =\n",
              "        google.colab.kernel.accessAllowed ? 'block' : 'none';\n",
              "\n",
              "      async function convertToInteractive(key) {\n",
              "        const element = document.querySelector('#df-a6f158e2-bf93-4d9a-890e-feca08225a68');\n",
              "        const dataTable =\n",
              "          await google.colab.kernel.invokeFunction('convertToInteractive',\n",
              "                                                    [key], {});\n",
              "        if (!dataTable) return;\n",
              "\n",
              "        const docLinkHtml = 'Like what you see? Visit the ' +\n",
              "          '<a target=\"_blank\" href=https://colab.research.google.com/notebooks/data_table.ipynb>data table notebook</a>'\n",
              "          + ' to learn more about interactive tables.';\n",
              "        element.innerHTML = '';\n",
              "        dataTable['output_type'] = 'display_data';\n",
              "        await google.colab.output.renderOutput(dataTable, element);\n",
              "        const docLink = document.createElement('div');\n",
              "        docLink.innerHTML = docLinkHtml;\n",
              "        element.appendChild(docLink);\n",
              "      }\n",
              "    </script>\n",
              "  </div>\n",
              "\n",
              "\n",
              "<div id=\"df-b360975d-c120-405f-9ac8-94983276abad\">\n",
              "  <button class=\"colab-df-quickchart\" onclick=\"quickchart('df-b360975d-c120-405f-9ac8-94983276abad')\"\n",
              "            title=\"Suggest charts.\"\n",
              "            style=\"display:none;\">\n",
              "\n",
              "<svg xmlns=\"http://www.w3.org/2000/svg\" height=\"24px\"viewBox=\"0 0 24 24\"\n",
              "     width=\"24px\">\n",
              "    <g>\n",
              "        <path d=\"M19 3H5c-1.1 0-2 .9-2 2v14c0 1.1.9 2 2 2h14c1.1 0 2-.9 2-2V5c0-1.1-.9-2-2-2zM9 17H7v-7h2v7zm4 0h-2V7h2v10zm4 0h-2v-4h2v4z\"/>\n",
              "    </g>\n",
              "</svg>\n",
              "  </button>\n",
              "\n",
              "<style>\n",
              "  .colab-df-quickchart {\n",
              "      --bg-color: #E8F0FE;\n",
              "      --fill-color: #1967D2;\n",
              "      --hover-bg-color: #E2EBFA;\n",
              "      --hover-fill-color: #174EA6;\n",
              "      --disabled-fill-color: #AAA;\n",
              "      --disabled-bg-color: #DDD;\n",
              "  }\n",
              "\n",
              "  [theme=dark] .colab-df-quickchart {\n",
              "      --bg-color: #3B4455;\n",
              "      --fill-color: #D2E3FC;\n",
              "      --hover-bg-color: #434B5C;\n",
              "      --hover-fill-color: #FFFFFF;\n",
              "      --disabled-bg-color: #3B4455;\n",
              "      --disabled-fill-color: #666;\n",
              "  }\n",
              "\n",
              "  .colab-df-quickchart {\n",
              "    background-color: var(--bg-color);\n",
              "    border: none;\n",
              "    border-radius: 50%;\n",
              "    cursor: pointer;\n",
              "    display: none;\n",
              "    fill: var(--fill-color);\n",
              "    height: 32px;\n",
              "    padding: 0;\n",
              "    width: 32px;\n",
              "  }\n",
              "\n",
              "  .colab-df-quickchart:hover {\n",
              "    background-color: var(--hover-bg-color);\n",
              "    box-shadow: 0 1px 2px rgba(60, 64, 67, 0.3), 0 1px 3px 1px rgba(60, 64, 67, 0.15);\n",
              "    fill: var(--button-hover-fill-color);\n",
              "  }\n",
              "\n",
              "  .colab-df-quickchart-complete:disabled,\n",
              "  .colab-df-quickchart-complete:disabled:hover {\n",
              "    background-color: var(--disabled-bg-color);\n",
              "    fill: var(--disabled-fill-color);\n",
              "    box-shadow: none;\n",
              "  }\n",
              "\n",
              "  .colab-df-spinner {\n",
              "    border: 2px solid var(--fill-color);\n",
              "    border-color: transparent;\n",
              "    border-bottom-color: var(--fill-color);\n",
              "    animation:\n",
              "      spin 1s steps(1) infinite;\n",
              "  }\n",
              "\n",
              "  @keyframes spin {\n",
              "    0% {\n",
              "      border-color: transparent;\n",
              "      border-bottom-color: var(--fill-color);\n",
              "      border-left-color: var(--fill-color);\n",
              "    }\n",
              "    20% {\n",
              "      border-color: transparent;\n",
              "      border-left-color: var(--fill-color);\n",
              "      border-top-color: var(--fill-color);\n",
              "    }\n",
              "    30% {\n",
              "      border-color: transparent;\n",
              "      border-left-color: var(--fill-color);\n",
              "      border-top-color: var(--fill-color);\n",
              "      border-right-color: var(--fill-color);\n",
              "    }\n",
              "    40% {\n",
              "      border-color: transparent;\n",
              "      border-right-color: var(--fill-color);\n",
              "      border-top-color: var(--fill-color);\n",
              "    }\n",
              "    60% {\n",
              "      border-color: transparent;\n",
              "      border-right-color: var(--fill-color);\n",
              "    }\n",
              "    80% {\n",
              "      border-color: transparent;\n",
              "      border-right-color: var(--fill-color);\n",
              "      border-bottom-color: var(--fill-color);\n",
              "    }\n",
              "    90% {\n",
              "      border-color: transparent;\n",
              "      border-bottom-color: var(--fill-color);\n",
              "    }\n",
              "  }\n",
              "</style>\n",
              "\n",
              "  <script>\n",
              "    async function quickchart(key) {\n",
              "      const quickchartButtonEl =\n",
              "        document.querySelector('#' + key + ' button');\n",
              "      quickchartButtonEl.disabled = true;  // To prevent multiple clicks.\n",
              "      quickchartButtonEl.classList.add('colab-df-spinner');\n",
              "      try {\n",
              "        const charts = await google.colab.kernel.invokeFunction(\n",
              "            'suggestCharts', [key], {});\n",
              "      } catch (error) {\n",
              "        console.error('Error during call to suggestCharts:', error);\n",
              "      }\n",
              "      quickchartButtonEl.classList.remove('colab-df-spinner');\n",
              "      quickchartButtonEl.classList.add('colab-df-quickchart-complete');\n",
              "    }\n",
              "    (() => {\n",
              "      let quickchartButtonEl =\n",
              "        document.querySelector('#df-b360975d-c120-405f-9ac8-94983276abad button');\n",
              "      quickchartButtonEl.style.display =\n",
              "        google.colab.kernel.accessAllowed ? 'block' : 'none';\n",
              "    })();\n",
              "  </script>\n",
              "</div>\n",
              "    </div>\n",
              "  </div>\n"
            ]
          },
          "metadata": {},
          "execution_count": 9
        }
      ]
    },
    {
      "cell_type": "code",
      "source": [
        "df.shape"
      ],
      "metadata": {
        "colab": {
          "base_uri": "https://localhost:8080/"
        },
        "id": "LBHekbNHzjcF",
        "outputId": "4219b5fe-aa19-4822-f600-1de60fd0c9de"
      },
      "execution_count": 10,
      "outputs": [
        {
          "output_type": "execute_result",
          "data": {
            "text/plain": [
              "(918, 15)"
            ]
          },
          "metadata": {},
          "execution_count": 10
        }
      ]
    },
    {
      "cell_type": "markdown",
      "source": [
        "## Split Dataset"
      ],
      "metadata": {
        "id": "b5FUm4fpz3OV"
      }
    },
    {
      "cell_type": "code",
      "source": [
        "inputs = df.iloc[:, 1:]\n",
        "outputs = df.iloc[:, 0]"
      ],
      "metadata": {
        "id": "P86pgzjlz5K_"
      },
      "execution_count": 11,
      "outputs": []
    },
    {
      "cell_type": "code",
      "source": [
        "inputs"
      ],
      "metadata": {
        "colab": {
          "base_uri": "https://localhost:8080/",
          "height": 443
        },
        "id": "z1wP5hW40xZ8",
        "outputId": "9491f981-136b-4aff-8b53-bca28f607673"
      },
      "execution_count": 12,
      "outputs": [
        {
          "output_type": "execute_result",
          "data": {
            "text/plain": [
              "     Sex_F  Sex_M  ChestPainType_ASY  ChestPainType_ATA  ChestPainType_NAP  \\\n",
              "0        0      1                  0                  1                  0   \n",
              "1        1      0                  0                  0                  1   \n",
              "2        0      1                  0                  1                  0   \n",
              "3        1      0                  1                  0                  0   \n",
              "4        0      1                  0                  0                  1   \n",
              "..     ...    ...                ...                ...                ...   \n",
              "913      0      1                  0                  0                  0   \n",
              "914      0      1                  1                  0                  0   \n",
              "915      0      1                  1                  0                  0   \n",
              "916      1      0                  0                  1                  0   \n",
              "917      0      1                  0                  0                  1   \n",
              "\n",
              "     ChestPainType_TA  RestingECG_LVH  RestingECG_Normal  RestingECG_ST  \\\n",
              "0                   0               0                  1              0   \n",
              "1                   0               0                  1              0   \n",
              "2                   0               0                  0              1   \n",
              "3                   0               0                  1              0   \n",
              "4                   0               0                  1              0   \n",
              "..                ...             ...                ...            ...   \n",
              "913                 1               0                  1              0   \n",
              "914                 0               0                  1              0   \n",
              "915                 0               0                  1              0   \n",
              "916                 0               1                  0              0   \n",
              "917                 0               0                  1              0   \n",
              "\n",
              "     ExerciseAngina_N  ExerciseAngina_Y  ST_Slope_Down  ST_Slope_Flat  \\\n",
              "0                   1                 0              0              0   \n",
              "1                   1                 0              0              1   \n",
              "2                   1                 0              0              0   \n",
              "3                   0                 1              0              1   \n",
              "4                   1                 0              0              0   \n",
              "..                ...               ...            ...            ...   \n",
              "913                 1                 0              0              1   \n",
              "914                 1                 0              0              1   \n",
              "915                 0                 1              0              1   \n",
              "916                 1                 0              0              1   \n",
              "917                 1                 0              0              0   \n",
              "\n",
              "     ST_Slope_Up  \n",
              "0              1  \n",
              "1              0  \n",
              "2              1  \n",
              "3              0  \n",
              "4              1  \n",
              "..           ...  \n",
              "913            0  \n",
              "914            0  \n",
              "915            0  \n",
              "916            0  \n",
              "917            1  \n",
              "\n",
              "[918 rows x 14 columns]"
            ],
            "text/html": [
              "\n",
              "  <div id=\"df-de3ab8d2-c5d7-4cff-b29e-939217229fef\" class=\"colab-df-container\">\n",
              "    <div>\n",
              "<style scoped>\n",
              "    .dataframe tbody tr th:only-of-type {\n",
              "        vertical-align: middle;\n",
              "    }\n",
              "\n",
              "    .dataframe tbody tr th {\n",
              "        vertical-align: top;\n",
              "    }\n",
              "\n",
              "    .dataframe thead th {\n",
              "        text-align: right;\n",
              "    }\n",
              "</style>\n",
              "<table border=\"1\" class=\"dataframe\">\n",
              "  <thead>\n",
              "    <tr style=\"text-align: right;\">\n",
              "      <th></th>\n",
              "      <th>Sex_F</th>\n",
              "      <th>Sex_M</th>\n",
              "      <th>ChestPainType_ASY</th>\n",
              "      <th>ChestPainType_ATA</th>\n",
              "      <th>ChestPainType_NAP</th>\n",
              "      <th>ChestPainType_TA</th>\n",
              "      <th>RestingECG_LVH</th>\n",
              "      <th>RestingECG_Normal</th>\n",
              "      <th>RestingECG_ST</th>\n",
              "      <th>ExerciseAngina_N</th>\n",
              "      <th>ExerciseAngina_Y</th>\n",
              "      <th>ST_Slope_Down</th>\n",
              "      <th>ST_Slope_Flat</th>\n",
              "      <th>ST_Slope_Up</th>\n",
              "    </tr>\n",
              "  </thead>\n",
              "  <tbody>\n",
              "    <tr>\n",
              "      <th>0</th>\n",
              "      <td>0</td>\n",
              "      <td>1</td>\n",
              "      <td>0</td>\n",
              "      <td>1</td>\n",
              "      <td>0</td>\n",
              "      <td>0</td>\n",
              "      <td>0</td>\n",
              "      <td>1</td>\n",
              "      <td>0</td>\n",
              "      <td>1</td>\n",
              "      <td>0</td>\n",
              "      <td>0</td>\n",
              "      <td>0</td>\n",
              "      <td>1</td>\n",
              "    </tr>\n",
              "    <tr>\n",
              "      <th>1</th>\n",
              "      <td>1</td>\n",
              "      <td>0</td>\n",
              "      <td>0</td>\n",
              "      <td>0</td>\n",
              "      <td>1</td>\n",
              "      <td>0</td>\n",
              "      <td>0</td>\n",
              "      <td>1</td>\n",
              "      <td>0</td>\n",
              "      <td>1</td>\n",
              "      <td>0</td>\n",
              "      <td>0</td>\n",
              "      <td>1</td>\n",
              "      <td>0</td>\n",
              "    </tr>\n",
              "    <tr>\n",
              "      <th>2</th>\n",
              "      <td>0</td>\n",
              "      <td>1</td>\n",
              "      <td>0</td>\n",
              "      <td>1</td>\n",
              "      <td>0</td>\n",
              "      <td>0</td>\n",
              "      <td>0</td>\n",
              "      <td>0</td>\n",
              "      <td>1</td>\n",
              "      <td>1</td>\n",
              "      <td>0</td>\n",
              "      <td>0</td>\n",
              "      <td>0</td>\n",
              "      <td>1</td>\n",
              "    </tr>\n",
              "    <tr>\n",
              "      <th>3</th>\n",
              "      <td>1</td>\n",
              "      <td>0</td>\n",
              "      <td>1</td>\n",
              "      <td>0</td>\n",
              "      <td>0</td>\n",
              "      <td>0</td>\n",
              "      <td>0</td>\n",
              "      <td>1</td>\n",
              "      <td>0</td>\n",
              "      <td>0</td>\n",
              "      <td>1</td>\n",
              "      <td>0</td>\n",
              "      <td>1</td>\n",
              "      <td>0</td>\n",
              "    </tr>\n",
              "    <tr>\n",
              "      <th>4</th>\n",
              "      <td>0</td>\n",
              "      <td>1</td>\n",
              "      <td>0</td>\n",
              "      <td>0</td>\n",
              "      <td>1</td>\n",
              "      <td>0</td>\n",
              "      <td>0</td>\n",
              "      <td>1</td>\n",
              "      <td>0</td>\n",
              "      <td>1</td>\n",
              "      <td>0</td>\n",
              "      <td>0</td>\n",
              "      <td>0</td>\n",
              "      <td>1</td>\n",
              "    </tr>\n",
              "    <tr>\n",
              "      <th>...</th>\n",
              "      <td>...</td>\n",
              "      <td>...</td>\n",
              "      <td>...</td>\n",
              "      <td>...</td>\n",
              "      <td>...</td>\n",
              "      <td>...</td>\n",
              "      <td>...</td>\n",
              "      <td>...</td>\n",
              "      <td>...</td>\n",
              "      <td>...</td>\n",
              "      <td>...</td>\n",
              "      <td>...</td>\n",
              "      <td>...</td>\n",
              "      <td>...</td>\n",
              "    </tr>\n",
              "    <tr>\n",
              "      <th>913</th>\n",
              "      <td>0</td>\n",
              "      <td>1</td>\n",
              "      <td>0</td>\n",
              "      <td>0</td>\n",
              "      <td>0</td>\n",
              "      <td>1</td>\n",
              "      <td>0</td>\n",
              "      <td>1</td>\n",
              "      <td>0</td>\n",
              "      <td>1</td>\n",
              "      <td>0</td>\n",
              "      <td>0</td>\n",
              "      <td>1</td>\n",
              "      <td>0</td>\n",
              "    </tr>\n",
              "    <tr>\n",
              "      <th>914</th>\n",
              "      <td>0</td>\n",
              "      <td>1</td>\n",
              "      <td>1</td>\n",
              "      <td>0</td>\n",
              "      <td>0</td>\n",
              "      <td>0</td>\n",
              "      <td>0</td>\n",
              "      <td>1</td>\n",
              "      <td>0</td>\n",
              "      <td>1</td>\n",
              "      <td>0</td>\n",
              "      <td>0</td>\n",
              "      <td>1</td>\n",
              "      <td>0</td>\n",
              "    </tr>\n",
              "    <tr>\n",
              "      <th>915</th>\n",
              "      <td>0</td>\n",
              "      <td>1</td>\n",
              "      <td>1</td>\n",
              "      <td>0</td>\n",
              "      <td>0</td>\n",
              "      <td>0</td>\n",
              "      <td>0</td>\n",
              "      <td>1</td>\n",
              "      <td>0</td>\n",
              "      <td>0</td>\n",
              "      <td>1</td>\n",
              "      <td>0</td>\n",
              "      <td>1</td>\n",
              "      <td>0</td>\n",
              "    </tr>\n",
              "    <tr>\n",
              "      <th>916</th>\n",
              "      <td>1</td>\n",
              "      <td>0</td>\n",
              "      <td>0</td>\n",
              "      <td>1</td>\n",
              "      <td>0</td>\n",
              "      <td>0</td>\n",
              "      <td>1</td>\n",
              "      <td>0</td>\n",
              "      <td>0</td>\n",
              "      <td>1</td>\n",
              "      <td>0</td>\n",
              "      <td>0</td>\n",
              "      <td>1</td>\n",
              "      <td>0</td>\n",
              "    </tr>\n",
              "    <tr>\n",
              "      <th>917</th>\n",
              "      <td>0</td>\n",
              "      <td>1</td>\n",
              "      <td>0</td>\n",
              "      <td>0</td>\n",
              "      <td>1</td>\n",
              "      <td>0</td>\n",
              "      <td>0</td>\n",
              "      <td>1</td>\n",
              "      <td>0</td>\n",
              "      <td>1</td>\n",
              "      <td>0</td>\n",
              "      <td>0</td>\n",
              "      <td>0</td>\n",
              "      <td>1</td>\n",
              "    </tr>\n",
              "  </tbody>\n",
              "</table>\n",
              "<p>918 rows × 14 columns</p>\n",
              "</div>\n",
              "    <div class=\"colab-df-buttons\">\n",
              "\n",
              "  <div class=\"colab-df-container\">\n",
              "    <button class=\"colab-df-convert\" onclick=\"convertToInteractive('df-de3ab8d2-c5d7-4cff-b29e-939217229fef')\"\n",
              "            title=\"Convert this dataframe to an interactive table.\"\n",
              "            style=\"display:none;\">\n",
              "\n",
              "  <svg xmlns=\"http://www.w3.org/2000/svg\" height=\"24px\" viewBox=\"0 -960 960 960\">\n",
              "    <path d=\"M120-120v-720h720v720H120Zm60-500h600v-160H180v160Zm220 220h160v-160H400v160Zm0 220h160v-160H400v160ZM180-400h160v-160H180v160Zm440 0h160v-160H620v160ZM180-180h160v-160H180v160Zm440 0h160v-160H620v160Z\"/>\n",
              "  </svg>\n",
              "    </button>\n",
              "\n",
              "  <style>\n",
              "    .colab-df-container {\n",
              "      display:flex;\n",
              "      gap: 12px;\n",
              "    }\n",
              "\n",
              "    .colab-df-convert {\n",
              "      background-color: #E8F0FE;\n",
              "      border: none;\n",
              "      border-radius: 50%;\n",
              "      cursor: pointer;\n",
              "      display: none;\n",
              "      fill: #1967D2;\n",
              "      height: 32px;\n",
              "      padding: 0 0 0 0;\n",
              "      width: 32px;\n",
              "    }\n",
              "\n",
              "    .colab-df-convert:hover {\n",
              "      background-color: #E2EBFA;\n",
              "      box-shadow: 0px 1px 2px rgba(60, 64, 67, 0.3), 0px 1px 3px 1px rgba(60, 64, 67, 0.15);\n",
              "      fill: #174EA6;\n",
              "    }\n",
              "\n",
              "    .colab-df-buttons div {\n",
              "      margin-bottom: 4px;\n",
              "    }\n",
              "\n",
              "    [theme=dark] .colab-df-convert {\n",
              "      background-color: #3B4455;\n",
              "      fill: #D2E3FC;\n",
              "    }\n",
              "\n",
              "    [theme=dark] .colab-df-convert:hover {\n",
              "      background-color: #434B5C;\n",
              "      box-shadow: 0px 1px 3px 1px rgba(0, 0, 0, 0.15);\n",
              "      filter: drop-shadow(0px 1px 2px rgba(0, 0, 0, 0.3));\n",
              "      fill: #FFFFFF;\n",
              "    }\n",
              "  </style>\n",
              "\n",
              "    <script>\n",
              "      const buttonEl =\n",
              "        document.querySelector('#df-de3ab8d2-c5d7-4cff-b29e-939217229fef button.colab-df-convert');\n",
              "      buttonEl.style.display =\n",
              "        google.colab.kernel.accessAllowed ? 'block' : 'none';\n",
              "\n",
              "      async function convertToInteractive(key) {\n",
              "        const element = document.querySelector('#df-de3ab8d2-c5d7-4cff-b29e-939217229fef');\n",
              "        const dataTable =\n",
              "          await google.colab.kernel.invokeFunction('convertToInteractive',\n",
              "                                                    [key], {});\n",
              "        if (!dataTable) return;\n",
              "\n",
              "        const docLinkHtml = 'Like what you see? Visit the ' +\n",
              "          '<a target=\"_blank\" href=https://colab.research.google.com/notebooks/data_table.ipynb>data table notebook</a>'\n",
              "          + ' to learn more about interactive tables.';\n",
              "        element.innerHTML = '';\n",
              "        dataTable['output_type'] = 'display_data';\n",
              "        await google.colab.output.renderOutput(dataTable, element);\n",
              "        const docLink = document.createElement('div');\n",
              "        docLink.innerHTML = docLinkHtml;\n",
              "        element.appendChild(docLink);\n",
              "      }\n",
              "    </script>\n",
              "  </div>\n",
              "\n",
              "\n",
              "<div id=\"df-8be4272e-5efb-4d0e-87ff-8f7abc4a467f\">\n",
              "  <button class=\"colab-df-quickchart\" onclick=\"quickchart('df-8be4272e-5efb-4d0e-87ff-8f7abc4a467f')\"\n",
              "            title=\"Suggest charts.\"\n",
              "            style=\"display:none;\">\n",
              "\n",
              "<svg xmlns=\"http://www.w3.org/2000/svg\" height=\"24px\"viewBox=\"0 0 24 24\"\n",
              "     width=\"24px\">\n",
              "    <g>\n",
              "        <path d=\"M19 3H5c-1.1 0-2 .9-2 2v14c0 1.1.9 2 2 2h14c1.1 0 2-.9 2-2V5c0-1.1-.9-2-2-2zM9 17H7v-7h2v7zm4 0h-2V7h2v10zm4 0h-2v-4h2v4z\"/>\n",
              "    </g>\n",
              "</svg>\n",
              "  </button>\n",
              "\n",
              "<style>\n",
              "  .colab-df-quickchart {\n",
              "      --bg-color: #E8F0FE;\n",
              "      --fill-color: #1967D2;\n",
              "      --hover-bg-color: #E2EBFA;\n",
              "      --hover-fill-color: #174EA6;\n",
              "      --disabled-fill-color: #AAA;\n",
              "      --disabled-bg-color: #DDD;\n",
              "  }\n",
              "\n",
              "  [theme=dark] .colab-df-quickchart {\n",
              "      --bg-color: #3B4455;\n",
              "      --fill-color: #D2E3FC;\n",
              "      --hover-bg-color: #434B5C;\n",
              "      --hover-fill-color: #FFFFFF;\n",
              "      --disabled-bg-color: #3B4455;\n",
              "      --disabled-fill-color: #666;\n",
              "  }\n",
              "\n",
              "  .colab-df-quickchart {\n",
              "    background-color: var(--bg-color);\n",
              "    border: none;\n",
              "    border-radius: 50%;\n",
              "    cursor: pointer;\n",
              "    display: none;\n",
              "    fill: var(--fill-color);\n",
              "    height: 32px;\n",
              "    padding: 0;\n",
              "    width: 32px;\n",
              "  }\n",
              "\n",
              "  .colab-df-quickchart:hover {\n",
              "    background-color: var(--hover-bg-color);\n",
              "    box-shadow: 0 1px 2px rgba(60, 64, 67, 0.3), 0 1px 3px 1px rgba(60, 64, 67, 0.15);\n",
              "    fill: var(--button-hover-fill-color);\n",
              "  }\n",
              "\n",
              "  .colab-df-quickchart-complete:disabled,\n",
              "  .colab-df-quickchart-complete:disabled:hover {\n",
              "    background-color: var(--disabled-bg-color);\n",
              "    fill: var(--disabled-fill-color);\n",
              "    box-shadow: none;\n",
              "  }\n",
              "\n",
              "  .colab-df-spinner {\n",
              "    border: 2px solid var(--fill-color);\n",
              "    border-color: transparent;\n",
              "    border-bottom-color: var(--fill-color);\n",
              "    animation:\n",
              "      spin 1s steps(1) infinite;\n",
              "  }\n",
              "\n",
              "  @keyframes spin {\n",
              "    0% {\n",
              "      border-color: transparent;\n",
              "      border-bottom-color: var(--fill-color);\n",
              "      border-left-color: var(--fill-color);\n",
              "    }\n",
              "    20% {\n",
              "      border-color: transparent;\n",
              "      border-left-color: var(--fill-color);\n",
              "      border-top-color: var(--fill-color);\n",
              "    }\n",
              "    30% {\n",
              "      border-color: transparent;\n",
              "      border-left-color: var(--fill-color);\n",
              "      border-top-color: var(--fill-color);\n",
              "      border-right-color: var(--fill-color);\n",
              "    }\n",
              "    40% {\n",
              "      border-color: transparent;\n",
              "      border-right-color: var(--fill-color);\n",
              "      border-top-color: var(--fill-color);\n",
              "    }\n",
              "    60% {\n",
              "      border-color: transparent;\n",
              "      border-right-color: var(--fill-color);\n",
              "    }\n",
              "    80% {\n",
              "      border-color: transparent;\n",
              "      border-right-color: var(--fill-color);\n",
              "      border-bottom-color: var(--fill-color);\n",
              "    }\n",
              "    90% {\n",
              "      border-color: transparent;\n",
              "      border-bottom-color: var(--fill-color);\n",
              "    }\n",
              "  }\n",
              "</style>\n",
              "\n",
              "  <script>\n",
              "    async function quickchart(key) {\n",
              "      const quickchartButtonEl =\n",
              "        document.querySelector('#' + key + ' button');\n",
              "      quickchartButtonEl.disabled = true;  // To prevent multiple clicks.\n",
              "      quickchartButtonEl.classList.add('colab-df-spinner');\n",
              "      try {\n",
              "        const charts = await google.colab.kernel.invokeFunction(\n",
              "            'suggestCharts', [key], {});\n",
              "      } catch (error) {\n",
              "        console.error('Error during call to suggestCharts:', error);\n",
              "      }\n",
              "      quickchartButtonEl.classList.remove('colab-df-spinner');\n",
              "      quickchartButtonEl.classList.add('colab-df-quickchart-complete');\n",
              "    }\n",
              "    (() => {\n",
              "      let quickchartButtonEl =\n",
              "        document.querySelector('#df-8be4272e-5efb-4d0e-87ff-8f7abc4a467f button');\n",
              "      quickchartButtonEl.style.display =\n",
              "        google.colab.kernel.accessAllowed ? 'block' : 'none';\n",
              "    })();\n",
              "  </script>\n",
              "</div>\n",
              "    </div>\n",
              "  </div>\n"
            ]
          },
          "metadata": {},
          "execution_count": 12
        }
      ]
    },
    {
      "cell_type": "code",
      "source": [
        "outputs\n",
        "type(outputs)"
      ],
      "metadata": {
        "colab": {
          "base_uri": "https://localhost:8080/"
        },
        "id": "V_qRVlsz0zSF",
        "outputId": "64130e47-7d42-486a-9c26-8efc0ef51418"
      },
      "execution_count": 13,
      "outputs": [
        {
          "output_type": "execute_result",
          "data": {
            "text/plain": [
              "pandas.core.series.Series"
            ]
          },
          "metadata": {},
          "execution_count": 13
        }
      ]
    },
    {
      "cell_type": "code",
      "source": [
        "four = train_test_split(inputs, outputs, test_size = SPLIT_RATE, random_state = RANDOM_STATE)\n",
        "X_fit, X_val, y_fit, y_val = [x.to_numpy() for x in four]"
      ],
      "metadata": {
        "id": "7ECE-dAR1B8s"
      },
      "execution_count": 14,
      "outputs": []
    },
    {
      "cell_type": "code",
      "source": [
        "X_fit"
      ],
      "metadata": {
        "colab": {
          "base_uri": "https://localhost:8080/"
        },
        "id": "FYAoqkfW1sRa",
        "outputId": "6fc7b876-8eb0-494b-d0b2-e7269f243c1e"
      },
      "execution_count": 15,
      "outputs": [
        {
          "output_type": "execute_result",
          "data": {
            "text/plain": [
              "array([[0, 1, 0, ..., 1, 0, 0],\n",
              "       [0, 1, 0, ..., 0, 0, 1],\n",
              "       [0, 1, 1, ..., 0, 1, 0],\n",
              "       ...,\n",
              "       [0, 1, 1, ..., 0, 0, 1],\n",
              "       [0, 1, 1, ..., 0, 0, 1],\n",
              "       [1, 0, 1, ..., 0, 1, 0]], dtype=uint8)"
            ]
          },
          "metadata": {},
          "execution_count": 15
        }
      ]
    },
    {
      "cell_type": "code",
      "source": [
        "X_val"
      ],
      "metadata": {
        "colab": {
          "base_uri": "https://localhost:8080/"
        },
        "id": "4YGVKM9x15Eq",
        "outputId": "1ffa989b-c4fc-4ee7-8631-50bb16e89c59"
      },
      "execution_count": 16,
      "outputs": [
        {
          "output_type": "execute_result",
          "data": {
            "text/plain": [
              "array([[1, 0, 0, ..., 0, 0, 1],\n",
              "       [0, 1, 0, ..., 0, 1, 0],\n",
              "       [0, 1, 1, ..., 0, 1, 0],\n",
              "       ...,\n",
              "       [0, 1, 1, ..., 0, 1, 0],\n",
              "       [0, 1, 0, ..., 0, 0, 1],\n",
              "       [0, 1, 1, ..., 0, 1, 0]], dtype=uint8)"
            ]
          },
          "metadata": {},
          "execution_count": 16
        }
      ]
    },
    {
      "cell_type": "code",
      "source": [
        "y_fit.shape"
      ],
      "metadata": {
        "colab": {
          "base_uri": "https://localhost:8080/"
        },
        "id": "oM-m67bLy7ra",
        "outputId": "3a91762c-a0e4-4c26-8a35-57b561256972"
      },
      "execution_count": 17,
      "outputs": [
        {
          "output_type": "execute_result",
          "data": {
            "text/plain": [
              "(734,)"
            ]
          },
          "metadata": {},
          "execution_count": 17
        }
      ]
    },
    {
      "cell_type": "code",
      "source": [
        "sum(y_fit == 0)/len(y_fit)"
      ],
      "metadata": {
        "colab": {
          "base_uri": "https://localhost:8080/"
        },
        "id": "pG7NeB9u2HCM",
        "outputId": "f1121f23-c621-43ca-c381-9942dd215f33"
      },
      "execution_count": 18,
      "outputs": [
        {
          "output_type": "execute_result",
          "data": {
            "text/plain": [
              "0.4536784741144414"
            ]
          },
          "metadata": {},
          "execution_count": 18
        }
      ]
    },
    {
      "cell_type": "markdown",
      "source": [
        "- balance --> good"
      ],
      "metadata": {
        "id": "YtD-j-DC2nk5"
      }
    },
    {
      "cell_type": "markdown",
      "source": [
        "# **Decision Tree Algorithm**"
      ],
      "metadata": {
        "id": "0rEUAtyh2q5y"
      }
    },
    {
      "cell_type": "markdown",
      "source": [
        "## Entropy of a set  "
      ],
      "metadata": {
        "id": "2ky6EgzC3Xmx"
      }
    },
    {
      "cell_type": "code",
      "source": [
        "def compute_entropy(y):\n",
        "\n",
        "    entropy = 0\n",
        "\n",
        "    if len(y) == 0:\n",
        "        return 0\n",
        "    entropy = sum(y[y==1])/len(y)\n",
        "    if entropy == 0 or entropy == 1:\n",
        "        return 0\n",
        "    else:\n",
        "        return -entropy*np.log2(entropy) - (1-entropy)*np.log2(1-entropy)"
      ],
      "metadata": {
        "id": "OSbi1_Ee2336"
      },
      "execution_count": 19,
      "outputs": []
    },
    {
      "cell_type": "code",
      "source": [
        "compute_entropy(np.array([1, 0, 1]))"
      ],
      "metadata": {
        "colab": {
          "base_uri": "https://localhost:8080/"
        },
        "id": "Xyh7zsgM3ThQ",
        "outputId": "a9db452f-b75e-4374-b60a-1543fb96070f"
      },
      "execution_count": 20,
      "outputs": [
        {
          "output_type": "execute_result",
          "data": {
            "text/plain": [
              "0.9182958340544896"
            ]
          },
          "metadata": {},
          "execution_count": 20
        }
      ]
    },
    {
      "cell_type": "markdown",
      "source": [
        "## Split dataset at node"
      ],
      "metadata": {
        "id": "Hle1bgNH3dyi"
      }
    },
    {
      "cell_type": "code",
      "source": [
        "def split_dataset(X, node_indices, feature):\n",
        "\n",
        "    left_indices = []\n",
        "    right_indices = []\n",
        "\n",
        "    for i in node_indices:\n",
        "        if X[i][feature] == 1:\n",
        "            left_indices.append(i)\n",
        "        else:\n",
        "            right_indices.append(i)\n",
        "\n",
        "    return left_indices, right_indices"
      ],
      "metadata": {
        "id": "Lxa1kYgv3tih"
      },
      "execution_count": 21,
      "outputs": []
    },
    {
      "cell_type": "code",
      "source": [
        "len(split_dataset(X_fit, list(range(len(X_fit))), 0)[0])"
      ],
      "metadata": {
        "colab": {
          "base_uri": "https://localhost:8080/"
        },
        "id": "IjrQEZLk3v3U",
        "outputId": "2068855c-a2dd-46c2-cd58-a35d2e8bfeaf"
      },
      "execution_count": 22,
      "outputs": [
        {
          "output_type": "execute_result",
          "data": {
            "text/plain": [
              "166"
            ]
          },
          "metadata": {},
          "execution_count": 22
        }
      ]
    },
    {
      "cell_type": "code",
      "source": [
        "len(split_dataset(X_fit, list(range(len(X_fit))), 0)[1])"
      ],
      "metadata": {
        "colab": {
          "base_uri": "https://localhost:8080/"
        },
        "id": "iUL130JM0WLZ",
        "outputId": "d6fdcd16-8452-4a7c-9fb1-641a4ba68029"
      },
      "execution_count": 23,
      "outputs": [
        {
          "output_type": "execute_result",
          "data": {
            "text/plain": [
              "568"
            ]
          },
          "metadata": {},
          "execution_count": 23
        }
      ]
    },
    {
      "cell_type": "code",
      "source": [
        "len(X_fit)"
      ],
      "metadata": {
        "colab": {
          "base_uri": "https://localhost:8080/"
        },
        "id": "7mhDLGe40azR",
        "outputId": "fb4cd1c7-897e-4cd4-e305-d43586a7f586"
      },
      "execution_count": 24,
      "outputs": [
        {
          "output_type": "execute_result",
          "data": {
            "text/plain": [
              "734"
            ]
          },
          "metadata": {},
          "execution_count": 24
        }
      ]
    },
    {
      "cell_type": "markdown",
      "source": [
        "## Information Gain at node"
      ],
      "metadata": {
        "id": "5ZME5DdN0rMR"
      }
    },
    {
      "cell_type": "code",
      "source": [
        "def compute_information_gain(X, y, node_indices, feature):\n",
        "\n",
        "    left_indices, right_indices = split_dataset(X, node_indices, feature)\n",
        "    # print(left_indices)\n",
        "    # print(right_indices)\n",
        "    X_node, y_node = X[node_indices], y[node_indices]\n",
        "    X_left, y_left = X[left_indices], y[left_indices]\n",
        "    X_right, y_right = X[right_indices], y[right_indices]\n",
        "\n",
        "    information_gain = 0\n",
        "\n",
        "    node_entropy = compute_entropy(y_node)\n",
        "    left_entropy = compute_entropy(y_left)\n",
        "    right_entropy = compute_entropy(y_right)\n",
        "    w_left = len(X_left) / len(X_node)\n",
        "    w_right = len(X_right) / len(X_node)\n",
        "    weighted_entropy = w_left * left_entropy + w_right * right_entropy\n",
        "    information_gain = node_entropy - weighted_entropy\n",
        "\n",
        "    return information_gain"
      ],
      "metadata": {
        "id": "gyZi6TOf0s74"
      },
      "execution_count": 25,
      "outputs": []
    },
    {
      "cell_type": "code",
      "source": [
        "compute_information_gain(X_fit, y_fit, list(range(len(X_fit))), 0)"
      ],
      "metadata": {
        "colab": {
          "base_uri": "https://localhost:8080/"
        },
        "id": "-pczdspF0uLQ",
        "outputId": "b8b9fce8-dbe8-4c7e-c25e-1b15dd14cb41"
      },
      "execution_count": 26,
      "outputs": [
        {
          "output_type": "execute_result",
          "data": {
            "text/plain": [
              "0.07480460470514483"
            ]
          },
          "metadata": {},
          "execution_count": 26
        }
      ]
    },
    {
      "cell_type": "code",
      "source": [
        "compute_information_gain(X_fit, y_fit, list(range(len(X_fit))), 13)"
      ],
      "metadata": {
        "colab": {
          "base_uri": "https://localhost:8080/"
        },
        "id": "QF7cUBHD45md",
        "outputId": "87750908-60d4-434a-80f9-05f09d8b5c7c"
      },
      "execution_count": 27,
      "outputs": [
        {
          "output_type": "execute_result",
          "data": {
            "text/plain": [
              "0.3083065284840649"
            ]
          },
          "metadata": {},
          "execution_count": 27
        }
      ]
    },
    {
      "cell_type": "markdown",
      "source": [
        "## Get Best Split at node"
      ],
      "metadata": {
        "id": "pw2ASnF-1bkh"
      }
    },
    {
      "cell_type": "code",
      "source": [
        "def get_best_split(X, y, node_indices):\n",
        "    num_features = X.shape[1]\n",
        "\n",
        "    best_feature = -1\n",
        "\n",
        "    max_info_gain = 0\n",
        "    for feature in range(num_features):\n",
        "        info_gain = compute_information_gain(X, y, node_indices, feature)\n",
        "        if info_gain > max_info_gain:\n",
        "            max_info_gain = info_gain\n",
        "            best_feature = feature\n",
        "\n",
        "\n",
        "    return best_feature"
      ],
      "metadata": {
        "id": "v_Gq5ulA1e6L"
      },
      "execution_count": 28,
      "outputs": []
    },
    {
      "cell_type": "code",
      "source": [
        "get_best_split(X_fit, y_fit, list(range(len(X_fit))))"
      ],
      "metadata": {
        "colab": {
          "base_uri": "https://localhost:8080/"
        },
        "id": "pT56bMdm4-Zm",
        "outputId": "3661f08c-dbbe-4753-81d3-4e7f396e20a5"
      },
      "execution_count": 29,
      "outputs": [
        {
          "output_type": "execute_result",
          "data": {
            "text/plain": [
              "13"
            ]
          },
          "metadata": {},
          "execution_count": 29
        }
      ]
    },
    {
      "cell_type": "markdown",
      "source": [
        "## Recursive"
      ],
      "metadata": {
        "id": "GqrrM4_iYd5M"
      }
    },
    {
      "cell_type": "code",
      "source": [
        "class Node:\n",
        "  def __init__(self):\n",
        "    self.feature_split = -1\n",
        "    self.label_result = -1\n",
        "    self.left = np.nan # Node*\n",
        "    self.right = np.nan # Node*\n",
        ""
      ],
      "metadata": {
        "id": "J1D6Y_TuUhI_"
      },
      "execution_count": 30,
      "outputs": []
    },
    {
      "cell_type": "code",
      "source": [
        "def build_tree_recursive(X, y, node_indices, branch_name, max_depth, min_samples_split, current_depth, tree, node: Node):\n",
        "\n",
        "    if current_depth == max_depth or len(node_indices) < min_samples_split:\n",
        "        formatting = \" \"*current_depth + \"-\"*current_depth\n",
        "        print(formatting, \"%s leaf node with indices\" % branch_name, node_indices)\n",
        "        if sum(y[node_indices]) / len(y[node_indices]) >= 0.5: # label result\n",
        "            node.label_result = 1\n",
        "        else:\n",
        "            node.label_result = 0\n",
        "        print(\"label is: \", node.label_result)\n",
        "        return\n",
        "\n",
        "\n",
        "    best_feature = get_best_split(X, y, node_indices)\n",
        "    node.feature_split = best_feature # build tree\n",
        "\n",
        "    formatting = \"-\"*current_depth\n",
        "    print(\"%s Depth %d, %s: Split on feature: %d\" % (formatting, current_depth, branch_name, best_feature))\n",
        "\n",
        "\n",
        "    left_indices, right_indices = split_dataset(X, node_indices, best_feature)\n",
        "    tree.append((left_indices, right_indices, best_feature))\n",
        "\n",
        "    node.left = Node() # new Node() # create branch\n",
        "    node.right = Node()\n",
        "    build_tree_recursive(X, y, left_indices, \"Left\", max_depth, min_samples_split, current_depth+1, tree, node.left)\n",
        "    build_tree_recursive(X, y, right_indices, \"Right\", max_depth, min_samples_split, current_depth+1, tree, node.right)\n",
        "    return tree"
      ],
      "metadata": {
        "id": "y87KzNWF5Ops"
      },
      "execution_count": 31,
      "outputs": []
    },
    {
      "cell_type": "code",
      "source": [
        "tree = []\n",
        "root = Node()"
      ],
      "metadata": {
        "id": "taJVg08R69O1"
      },
      "execution_count": 32,
      "outputs": []
    },
    {
      "cell_type": "code",
      "source": [
        "tree = build_tree_recursive(X_fit, y_fit, list(range(len(X_fit))), \"Root\", max_depth=3, min_samples_split=2, current_depth=0, tree = tree, node = root)"
      ],
      "metadata": {
        "colab": {
          "base_uri": "https://localhost:8080/"
        },
        "id": "auPLWclmX9WS",
        "outputId": "284b43e2-04b3-4c55-a9b7-48dc7054b43d"
      },
      "execution_count": 33,
      "outputs": [
        {
          "output_type": "stream",
          "name": "stdout",
          "text": [
            " Depth 0, Root: Split on feature: 13\n",
            "- Depth 1, Left: Split on feature: 2\n",
            "-- Depth 2, Left: Split on feature: 9\n",
            "   --- Left leaf node with indices [22, 35, 43, 49, 53, 92, 99, 108, 116, 127, 131, 137, 142, 143, 160, 162, 205, 221, 223, 224, 241, 251, 256, 263, 265, 270, 320, 321, 322, 367, 368, 372, 385, 386, 395, 401, 405, 414, 416, 418, 467, 470, 476, 483, 495, 519, 521, 528, 557, 561, 574, 588, 589, 595, 600, 611, 628, 647, 664, 678, 693, 694, 698, 701, 702, 707, 712, 729, 730]\n",
            "label is:  0\n",
            "   --- Right leaf node with indices [6, 62, 74, 75, 86, 96, 100, 128, 150, 151, 155, 257, 292, 343, 347, 426, 432, 451, 455, 458, 474, 494, 512, 524, 538, 622, 632, 637, 657, 679, 687, 692, 699, 718, 731, 732]\n",
            "label is:  1\n",
            "-- Depth 2, Right: Split on feature: 0\n",
            "   --- Left leaf node with indices [3, 9, 13, 39, 41, 88, 91, 103, 104, 109, 114, 115, 124, 132, 166, 168, 169, 177, 195, 197, 201, 207, 216, 225, 235, 236, 240, 246, 248, 259, 266, 280, 281, 297, 304, 307, 327, 328, 330, 337, 350, 351, 356, 366, 369, 397, 403, 406, 413, 422, 435, 443, 459, 464, 480, 503, 509, 514, 530, 533, 542, 546, 563, 581, 584, 604, 613, 614, 617, 618, 620, 648, 658, 683, 684, 711, 724, 726]\n",
            "label is:  0\n",
            "   --- Right leaf node with indices [1, 11, 12, 20, 26, 27, 28, 34, 44, 48, 59, 63, 66, 76, 79, 81, 98, 105, 106, 117, 120, 123, 148, 153, 163, 165, 170, 171, 175, 183, 186, 189, 191, 193, 203, 206, 210, 211, 213, 215, 218, 222, 228, 238, 243, 254, 271, 285, 287, 289, 291, 302, 306, 313, 314, 329, 339, 358, 363, 364, 370, 376, 378, 388, 392, 410, 412, 421, 423, 425, 428, 431, 436, 446, 452, 457, 463, 465, 468, 472, 478, 485, 497, 499, 508, 527, 531, 536, 547, 556, 558, 560, 568, 575, 579, 580, 593, 596, 598, 602, 624, 627, 633, 635, 639, 641, 644, 650, 655, 656, 671, 674, 677, 681, 695, 696, 697, 705, 713, 714, 717, 721, 727, 728]\n",
            "label is:  0\n",
            "- Depth 1, Right: Split on feature: 2\n",
            "-- Depth 2, Left: Split on feature: 0\n",
            "   --- Left leaf node with indices [25, 30, 33, 149, 152, 159, 174, 202, 227, 233, 237, 245, 250, 253, 273, 279, 286, 294, 298, 331, 360, 373, 379, 429, 447, 454, 466, 482, 488, 490, 498, 502, 515, 523, 549, 586, 597, 615, 654, 665, 668, 733]\n",
            "label is:  1\n",
            "   --- Right leaf node with indices [2, 4, 5, 7, 10, 14, 15, 16, 18, 23, 24, 29, 32, 37, 38, 40, 46, 51, 54, 55, 60, 64, 67, 68, 72, 73, 77, 80, 82, 83, 84, 85, 87, 89, 93, 95, 97, 101, 110, 112, 118, 122, 126, 133, 134, 135, 136, 138, 141, 144, 146, 147, 157, 158, 161, 164, 167, 172, 173, 178, 180, 182, 184, 185, 187, 188, 190, 192, 194, 196, 199, 204, 212, 214, 217, 219, 220, 229, 234, 239, 244, 247, 249, 255, 258, 261, 262, 267, 268, 269, 275, 276, 277, 278, 282, 283, 290, 293, 295, 296, 299, 300, 303, 308, 309, 311, 312, 315, 316, 323, 324, 326, 332, 333, 335, 336, 338, 341, 342, 344, 345, 352, 353, 354, 355, 357, 359, 361, 371, 374, 375, 377, 382, 389, 390, 393, 399, 400, 402, 407, 408, 411, 417, 419, 420, 424, 427, 430, 433, 437, 438, 442, 444, 445, 448, 449, 450, 453, 456, 461, 462, 469, 471, 475, 479, 481, 484, 489, 492, 493, 496, 501, 504, 505, 507, 510, 511, 513, 516, 517, 518, 522, 525, 526, 532, 535, 537, 539, 540, 550, 551, 552, 553, 564, 566, 567, 570, 571, 572, 576, 577, 578, 583, 590, 591, 592, 594, 601, 603, 605, 607, 608, 609, 610, 612, 616, 619, 623, 625, 626, 629, 630, 634, 636, 638, 642, 645, 649, 651, 652, 660, 661, 662, 663, 666, 667, 669, 670, 672, 673, 675, 680, 682, 685, 686, 688, 690, 691, 703, 706, 709, 710, 720, 722]\n",
            "label is:  1\n",
            "-- Depth 2, Right: Split on feature: 0\n",
            "   --- Left leaf node with indices [17, 36, 45, 50, 57, 58, 69, 78, 140, 154, 226, 231, 232, 252, 288, 310, 334, 415, 460, 473, 500, 545, 565, 569, 587, 631, 640, 653, 719]\n",
            "label is:  0\n",
            "   --- Right leaf node with indices [0, 8, 19, 21, 31, 42, 47, 52, 56, 61, 65, 70, 71, 90, 94, 102, 107, 111, 113, 119, 121, 125, 129, 130, 139, 145, 156, 176, 179, 181, 198, 200, 208, 209, 230, 242, 260, 264, 272, 274, 284, 301, 305, 317, 318, 319, 325, 340, 346, 348, 349, 362, 365, 380, 381, 383, 384, 387, 391, 394, 396, 398, 404, 409, 434, 439, 440, 441, 477, 486, 487, 491, 506, 520, 529, 534, 541, 543, 544, 548, 554, 555, 559, 562, 573, 582, 585, 599, 606, 621, 643, 646, 659, 676, 689, 700, 704, 708, 715, 716, 723, 725]\n",
            "label is:  1\n"
          ]
        }
      ]
    },
    {
      "cell_type": "code",
      "source": [
        "root.feature_split"
      ],
      "metadata": {
        "colab": {
          "base_uri": "https://localhost:8080/"
        },
        "id": "gAFVjDAPYN-C",
        "outputId": "86046c72-55f7-42c0-d79e-57257c3d0934"
      },
      "execution_count": 34,
      "outputs": [
        {
          "output_type": "execute_result",
          "data": {
            "text/plain": [
              "13"
            ]
          },
          "metadata": {},
          "execution_count": 34
        }
      ]
    },
    {
      "cell_type": "code",
      "source": [
        "root.label_result"
      ],
      "metadata": {
        "colab": {
          "base_uri": "https://localhost:8080/"
        },
        "id": "FVxA_YfRaBw-",
        "outputId": "be623cb1-95c0-4782-f6b1-99783122b5d2"
      },
      "execution_count": 35,
      "outputs": [
        {
          "output_type": "execute_result",
          "data": {
            "text/plain": [
              "-1"
            ]
          },
          "metadata": {},
          "execution_count": 35
        }
      ]
    },
    {
      "cell_type": "markdown",
      "source": [
        "- make predictions"
      ],
      "metadata": {
        "id": "ylO9fkglhzJt"
      }
    },
    {
      "cell_type": "code",
      "source": [
        "def predict(node: Node, x: np.array) -> int:\n",
        "    if(node.feature_split == -1):\n",
        "      return node.label_result\n",
        "    if(x[node.feature_split] == 1):\n",
        "      return predict(node.left, x)\n",
        "    elif(x[node.feature_split] == 0):\n",
        "      return predict(node.right, x)"
      ],
      "metadata": {
        "id": "5R4WJ1Wza3SC"
      },
      "execution_count": 36,
      "outputs": []
    },
    {
      "cell_type": "code",
      "source": [
        "predict(root, X_fit[0])"
      ],
      "metadata": {
        "colab": {
          "base_uri": "https://localhost:8080/"
        },
        "id": "8I8LDsAUcT2-",
        "outputId": "d863b529-7906-47c7-d6dc-29e36a07c01f"
      },
      "execution_count": 37,
      "outputs": [
        {
          "output_type": "execute_result",
          "data": {
            "text/plain": [
              "1"
            ]
          },
          "metadata": {},
          "execution_count": 37
        }
      ]
    },
    {
      "cell_type": "code",
      "source": [
        "for turn in range(10):\n",
        "  i = np.random.randint(len(X_fit))\n",
        "  print(i, predict(root, X_fit[i]) == y_fit[i])"
      ],
      "metadata": {
        "colab": {
          "base_uri": "https://localhost:8080/"
        },
        "id": "KGkiKan-cZh-",
        "outputId": "2a87c080-defa-4bf9-8891-053c67af6e25"
      },
      "execution_count": 38,
      "outputs": [
        {
          "output_type": "stream",
          "name": "stdout",
          "text": [
            "23 True\n",
            "607 True\n",
            "510 True\n",
            "461 True\n",
            "458 True\n",
            "373 True\n",
            "629 True\n",
            "107 True\n",
            "258 True\n",
            "205 True\n"
          ]
        }
      ]
    },
    {
      "cell_type": "markdown",
      "source": [
        "## **Decision Tree PackPage**"
      ],
      "metadata": {
        "id": "IF8MP2WxeUDW"
      }
    },
    {
      "cell_type": "code",
      "source": [
        "class DecisionTree:\n",
        "  def __init__(self, max_depth: int = 3, min_samples_split: int = 2):\n",
        "    self.max_depth = max_depth\n",
        "    self.min_samples_split = min_samples_split\n",
        "    self.root = Node()\n",
        "  def learning(self, X_fit: np.array, y_fit: np.array) -> None:\n",
        "    tree = build_tree_recursive(X_fit, y_fit, list(range(len(X_fit))), \"Root\",\n",
        "                                max_depth=self.max_depth, min_samples_split=self.min_samples_split,\n",
        "                                current_depth=0, tree = [],\n",
        "                                node = self.root)\n",
        "  def makePredictions(self, X_test: np.array) -> np.array:\n",
        "    predictions = []\n",
        "    for i in range(len(X_test)):\n",
        "      predictions += [predict(self.root, X_test[i])]\n",
        "    return np.array(predictions)\n"
      ],
      "metadata": {
        "id": "uyGVQKQeeZQQ"
      },
      "execution_count": 39,
      "outputs": []
    },
    {
      "cell_type": "code",
      "source": [
        "dtree = DecisionTree()\n",
        "dtree.learning(X_fit, y_fit)"
      ],
      "metadata": {
        "colab": {
          "base_uri": "https://localhost:8080/"
        },
        "id": "8wd7Gg_Bgrfb",
        "outputId": "27bc2afb-f513-4277-ebc6-247c9a18cf47"
      },
      "execution_count": 40,
      "outputs": [
        {
          "output_type": "stream",
          "name": "stdout",
          "text": [
            " Depth 0, Root: Split on feature: 13\n",
            "- Depth 1, Left: Split on feature: 2\n",
            "-- Depth 2, Left: Split on feature: 9\n",
            "   --- Left leaf node with indices [22, 35, 43, 49, 53, 92, 99, 108, 116, 127, 131, 137, 142, 143, 160, 162, 205, 221, 223, 224, 241, 251, 256, 263, 265, 270, 320, 321, 322, 367, 368, 372, 385, 386, 395, 401, 405, 414, 416, 418, 467, 470, 476, 483, 495, 519, 521, 528, 557, 561, 574, 588, 589, 595, 600, 611, 628, 647, 664, 678, 693, 694, 698, 701, 702, 707, 712, 729, 730]\n",
            "label is:  0\n",
            "   --- Right leaf node with indices [6, 62, 74, 75, 86, 96, 100, 128, 150, 151, 155, 257, 292, 343, 347, 426, 432, 451, 455, 458, 474, 494, 512, 524, 538, 622, 632, 637, 657, 679, 687, 692, 699, 718, 731, 732]\n",
            "label is:  1\n",
            "-- Depth 2, Right: Split on feature: 0\n",
            "   --- Left leaf node with indices [3, 9, 13, 39, 41, 88, 91, 103, 104, 109, 114, 115, 124, 132, 166, 168, 169, 177, 195, 197, 201, 207, 216, 225, 235, 236, 240, 246, 248, 259, 266, 280, 281, 297, 304, 307, 327, 328, 330, 337, 350, 351, 356, 366, 369, 397, 403, 406, 413, 422, 435, 443, 459, 464, 480, 503, 509, 514, 530, 533, 542, 546, 563, 581, 584, 604, 613, 614, 617, 618, 620, 648, 658, 683, 684, 711, 724, 726]\n",
            "label is:  0\n",
            "   --- Right leaf node with indices [1, 11, 12, 20, 26, 27, 28, 34, 44, 48, 59, 63, 66, 76, 79, 81, 98, 105, 106, 117, 120, 123, 148, 153, 163, 165, 170, 171, 175, 183, 186, 189, 191, 193, 203, 206, 210, 211, 213, 215, 218, 222, 228, 238, 243, 254, 271, 285, 287, 289, 291, 302, 306, 313, 314, 329, 339, 358, 363, 364, 370, 376, 378, 388, 392, 410, 412, 421, 423, 425, 428, 431, 436, 446, 452, 457, 463, 465, 468, 472, 478, 485, 497, 499, 508, 527, 531, 536, 547, 556, 558, 560, 568, 575, 579, 580, 593, 596, 598, 602, 624, 627, 633, 635, 639, 641, 644, 650, 655, 656, 671, 674, 677, 681, 695, 696, 697, 705, 713, 714, 717, 721, 727, 728]\n",
            "label is:  0\n",
            "- Depth 1, Right: Split on feature: 2\n",
            "-- Depth 2, Left: Split on feature: 0\n",
            "   --- Left leaf node with indices [25, 30, 33, 149, 152, 159, 174, 202, 227, 233, 237, 245, 250, 253, 273, 279, 286, 294, 298, 331, 360, 373, 379, 429, 447, 454, 466, 482, 488, 490, 498, 502, 515, 523, 549, 586, 597, 615, 654, 665, 668, 733]\n",
            "label is:  1\n",
            "   --- Right leaf node with indices [2, 4, 5, 7, 10, 14, 15, 16, 18, 23, 24, 29, 32, 37, 38, 40, 46, 51, 54, 55, 60, 64, 67, 68, 72, 73, 77, 80, 82, 83, 84, 85, 87, 89, 93, 95, 97, 101, 110, 112, 118, 122, 126, 133, 134, 135, 136, 138, 141, 144, 146, 147, 157, 158, 161, 164, 167, 172, 173, 178, 180, 182, 184, 185, 187, 188, 190, 192, 194, 196, 199, 204, 212, 214, 217, 219, 220, 229, 234, 239, 244, 247, 249, 255, 258, 261, 262, 267, 268, 269, 275, 276, 277, 278, 282, 283, 290, 293, 295, 296, 299, 300, 303, 308, 309, 311, 312, 315, 316, 323, 324, 326, 332, 333, 335, 336, 338, 341, 342, 344, 345, 352, 353, 354, 355, 357, 359, 361, 371, 374, 375, 377, 382, 389, 390, 393, 399, 400, 402, 407, 408, 411, 417, 419, 420, 424, 427, 430, 433, 437, 438, 442, 444, 445, 448, 449, 450, 453, 456, 461, 462, 469, 471, 475, 479, 481, 484, 489, 492, 493, 496, 501, 504, 505, 507, 510, 511, 513, 516, 517, 518, 522, 525, 526, 532, 535, 537, 539, 540, 550, 551, 552, 553, 564, 566, 567, 570, 571, 572, 576, 577, 578, 583, 590, 591, 592, 594, 601, 603, 605, 607, 608, 609, 610, 612, 616, 619, 623, 625, 626, 629, 630, 634, 636, 638, 642, 645, 649, 651, 652, 660, 661, 662, 663, 666, 667, 669, 670, 672, 673, 675, 680, 682, 685, 686, 688, 690, 691, 703, 706, 709, 710, 720, 722]\n",
            "label is:  1\n",
            "-- Depth 2, Right: Split on feature: 0\n",
            "   --- Left leaf node with indices [17, 36, 45, 50, 57, 58, 69, 78, 140, 154, 226, 231, 232, 252, 288, 310, 334, 415, 460, 473, 500, 545, 565, 569, 587, 631, 640, 653, 719]\n",
            "label is:  0\n",
            "   --- Right leaf node with indices [0, 8, 19, 21, 31, 42, 47, 52, 56, 61, 65, 70, 71, 90, 94, 102, 107, 111, 113, 119, 121, 125, 129, 130, 139, 145, 156, 176, 179, 181, 198, 200, 208, 209, 230, 242, 260, 264, 272, 274, 284, 301, 305, 317, 318, 319, 325, 340, 346, 348, 349, 362, 365, 380, 381, 383, 384, 387, 391, 394, 396, 398, 404, 409, 434, 439, 440, 441, 477, 486, 487, 491, 506, 520, 529, 534, 541, 543, 544, 548, 554, 555, 559, 562, 573, 582, 585, 599, 606, 621, 643, 646, 659, 676, 689, 700, 704, 708, 715, 716, 723, 725]\n",
            "label is:  1\n"
          ]
        }
      ]
    },
    {
      "cell_type": "code",
      "source": [
        "predictions = dtree.makePredictions(X_val)"
      ],
      "metadata": {
        "id": "XDmdwj5Jg2cc"
      },
      "execution_count": 41,
      "outputs": []
    },
    {
      "cell_type": "code",
      "source": [
        "help(accuracy_score)"
      ],
      "metadata": {
        "colab": {
          "base_uri": "https://localhost:8080/"
        },
        "id": "1j-7N4KuhBTV",
        "outputId": "4ab1e46c-a1fa-46f5-96f6-1f18d37855ac"
      },
      "execution_count": 42,
      "outputs": [
        {
          "output_type": "stream",
          "name": "stdout",
          "text": [
            "Help on function accuracy_score in module sklearn.metrics._classification:\n",
            "\n",
            "accuracy_score(y_true, y_pred, *, normalize=True, sample_weight=None)\n",
            "    Accuracy classification score.\n",
            "    \n",
            "    In multilabel classification, this function computes subset accuracy:\n",
            "    the set of labels predicted for a sample must *exactly* match the\n",
            "    corresponding set of labels in y_true.\n",
            "    \n",
            "    Read more in the :ref:`User Guide <accuracy_score>`.\n",
            "    \n",
            "    Parameters\n",
            "    ----------\n",
            "    y_true : 1d array-like, or label indicator array / sparse matrix\n",
            "        Ground truth (correct) labels.\n",
            "    \n",
            "    y_pred : 1d array-like, or label indicator array / sparse matrix\n",
            "        Predicted labels, as returned by a classifier.\n",
            "    \n",
            "    normalize : bool, default=True\n",
            "        If ``False``, return the number of correctly classified samples.\n",
            "        Otherwise, return the fraction of correctly classified samples.\n",
            "    \n",
            "    sample_weight : array-like of shape (n_samples,), default=None\n",
            "        Sample weights.\n",
            "    \n",
            "    Returns\n",
            "    -------\n",
            "    score : float\n",
            "        If ``normalize == True``, return the fraction of correctly\n",
            "        classified samples (float), else returns the number of correctly\n",
            "        classified samples (int).\n",
            "    \n",
            "        The best performance is 1 with ``normalize == True`` and the number\n",
            "        of samples with ``normalize == False``.\n",
            "    \n",
            "    See Also\n",
            "    --------\n",
            "    balanced_accuracy_score : Compute the balanced accuracy to deal with\n",
            "        imbalanced datasets.\n",
            "    jaccard_score : Compute the Jaccard similarity coefficient score.\n",
            "    hamming_loss : Compute the average Hamming loss or Hamming distance between\n",
            "        two sets of samples.\n",
            "    zero_one_loss : Compute the Zero-one classification loss. By default, the\n",
            "        function will return the percentage of imperfectly predicted subsets.\n",
            "    \n",
            "    Notes\n",
            "    -----\n",
            "    In binary classification, this function is equal to the `jaccard_score`\n",
            "    function.\n",
            "    \n",
            "    Examples\n",
            "    --------\n",
            "    >>> from sklearn.metrics import accuracy_score\n",
            "    >>> y_pred = [0, 2, 1, 3]\n",
            "    >>> y_true = [0, 1, 2, 3]\n",
            "    >>> accuracy_score(y_true, y_pred)\n",
            "    0.5\n",
            "    >>> accuracy_score(y_true, y_pred, normalize=False)\n",
            "    2\n",
            "    \n",
            "    In the multilabel case with binary label indicators:\n",
            "    \n",
            "    >>> import numpy as np\n",
            "    >>> accuracy_score(np.array([[0, 1], [1, 1]]), np.ones((2, 2)))\n",
            "    0.5\n",
            "\n"
          ]
        }
      ]
    },
    {
      "cell_type": "code",
      "source": [
        "accuracy_score(y_val, predictions)"
      ],
      "metadata": {
        "colab": {
          "base_uri": "https://localhost:8080/"
        },
        "id": "ygqprumehJVm",
        "outputId": "c41b3948-dfe8-498e-e4e8-862cc65fac15"
      },
      "execution_count": 43,
      "outputs": [
        {
          "output_type": "execute_result",
          "data": {
            "text/plain": [
              "0.8315217391304348"
            ]
          },
          "metadata": {},
          "execution_count": 43
        }
      ]
    },
    {
      "cell_type": "markdown",
      "source": [
        "# **Compare With Sklearn**"
      ],
      "metadata": {
        "id": "W9Va4nkgiTNb"
      }
    },
    {
      "cell_type": "markdown",
      "source": [
        "## Sklearn"
      ],
      "metadata": {
        "id": "0D-PwrwLjgvc"
      }
    },
    {
      "cell_type": "code",
      "source": [
        "# create a estimator\n",
        "sk_version = DecisionTreeClassifier(criterion='entropy', max_depth = 4, min_samples_split = 50, random_state = 42)"
      ],
      "metadata": {
        "id": "TkVmzOsCib67"
      },
      "execution_count": 44,
      "outputs": []
    },
    {
      "cell_type": "code",
      "source": [
        "# learning\n",
        "sk_version.fit(X_fit, y_fit)"
      ],
      "metadata": {
        "colab": {
          "base_uri": "https://localhost:8080/",
          "height": 92
        },
        "id": "JFgYpQ7_jLD1",
        "outputId": "696bdf83-1353-451d-9ff4-df62366ce1d2"
      },
      "execution_count": 45,
      "outputs": [
        {
          "output_type": "execute_result",
          "data": {
            "text/plain": [
              "DecisionTreeClassifier(criterion='entropy', max_depth=4, min_samples_split=50,\n",
              "                       random_state=42)"
            ],
            "text/html": [
              "<style>#sk-container-id-1 {color: black;background-color: white;}#sk-container-id-1 pre{padding: 0;}#sk-container-id-1 div.sk-toggleable {background-color: white;}#sk-container-id-1 label.sk-toggleable__label {cursor: pointer;display: block;width: 100%;margin-bottom: 0;padding: 0.3em;box-sizing: border-box;text-align: center;}#sk-container-id-1 label.sk-toggleable__label-arrow:before {content: \"▸\";float: left;margin-right: 0.25em;color: #696969;}#sk-container-id-1 label.sk-toggleable__label-arrow:hover:before {color: black;}#sk-container-id-1 div.sk-estimator:hover label.sk-toggleable__label-arrow:before {color: black;}#sk-container-id-1 div.sk-toggleable__content {max-height: 0;max-width: 0;overflow: hidden;text-align: left;background-color: #f0f8ff;}#sk-container-id-1 div.sk-toggleable__content pre {margin: 0.2em;color: black;border-radius: 0.25em;background-color: #f0f8ff;}#sk-container-id-1 input.sk-toggleable__control:checked~div.sk-toggleable__content {max-height: 200px;max-width: 100%;overflow: auto;}#sk-container-id-1 input.sk-toggleable__control:checked~label.sk-toggleable__label-arrow:before {content: \"▾\";}#sk-container-id-1 div.sk-estimator input.sk-toggleable__control:checked~label.sk-toggleable__label {background-color: #d4ebff;}#sk-container-id-1 div.sk-label input.sk-toggleable__control:checked~label.sk-toggleable__label {background-color: #d4ebff;}#sk-container-id-1 input.sk-hidden--visually {border: 0;clip: rect(1px 1px 1px 1px);clip: rect(1px, 1px, 1px, 1px);height: 1px;margin: -1px;overflow: hidden;padding: 0;position: absolute;width: 1px;}#sk-container-id-1 div.sk-estimator {font-family: monospace;background-color: #f0f8ff;border: 1px dotted black;border-radius: 0.25em;box-sizing: border-box;margin-bottom: 0.5em;}#sk-container-id-1 div.sk-estimator:hover {background-color: #d4ebff;}#sk-container-id-1 div.sk-parallel-item::after {content: \"\";width: 100%;border-bottom: 1px solid gray;flex-grow: 1;}#sk-container-id-1 div.sk-label:hover label.sk-toggleable__label {background-color: #d4ebff;}#sk-container-id-1 div.sk-serial::before {content: \"\";position: absolute;border-left: 1px solid gray;box-sizing: border-box;top: 0;bottom: 0;left: 50%;z-index: 0;}#sk-container-id-1 div.sk-serial {display: flex;flex-direction: column;align-items: center;background-color: white;padding-right: 0.2em;padding-left: 0.2em;position: relative;}#sk-container-id-1 div.sk-item {position: relative;z-index: 1;}#sk-container-id-1 div.sk-parallel {display: flex;align-items: stretch;justify-content: center;background-color: white;position: relative;}#sk-container-id-1 div.sk-item::before, #sk-container-id-1 div.sk-parallel-item::before {content: \"\";position: absolute;border-left: 1px solid gray;box-sizing: border-box;top: 0;bottom: 0;left: 50%;z-index: -1;}#sk-container-id-1 div.sk-parallel-item {display: flex;flex-direction: column;z-index: 1;position: relative;background-color: white;}#sk-container-id-1 div.sk-parallel-item:first-child::after {align-self: flex-end;width: 50%;}#sk-container-id-1 div.sk-parallel-item:last-child::after {align-self: flex-start;width: 50%;}#sk-container-id-1 div.sk-parallel-item:only-child::after {width: 0;}#sk-container-id-1 div.sk-dashed-wrapped {border: 1px dashed gray;margin: 0 0.4em 0.5em 0.4em;box-sizing: border-box;padding-bottom: 0.4em;background-color: white;}#sk-container-id-1 div.sk-label label {font-family: monospace;font-weight: bold;display: inline-block;line-height: 1.2em;}#sk-container-id-1 div.sk-label-container {text-align: center;}#sk-container-id-1 div.sk-container {/* jupyter's `normalize.less` sets `[hidden] { display: none; }` but bootstrap.min.css set `[hidden] { display: none !important; }` so we also need the `!important` here to be able to override the default hidden behavior on the sphinx rendered scikit-learn.org. See: https://github.com/scikit-learn/scikit-learn/issues/21755 */display: inline-block !important;position: relative;}#sk-container-id-1 div.sk-text-repr-fallback {display: none;}</style><div id=\"sk-container-id-1\" class=\"sk-top-container\"><div class=\"sk-text-repr-fallback\"><pre>DecisionTreeClassifier(criterion=&#x27;entropy&#x27;, max_depth=4, min_samples_split=50,\n",
              "                       random_state=42)</pre><b>In a Jupyter environment, please rerun this cell to show the HTML representation or trust the notebook. <br />On GitHub, the HTML representation is unable to render, please try loading this page with nbviewer.org.</b></div><div class=\"sk-container\" hidden><div class=\"sk-item\"><div class=\"sk-estimator sk-toggleable\"><input class=\"sk-toggleable__control sk-hidden--visually\" id=\"sk-estimator-id-1\" type=\"checkbox\" checked><label for=\"sk-estimator-id-1\" class=\"sk-toggleable__label sk-toggleable__label-arrow\">DecisionTreeClassifier</label><div class=\"sk-toggleable__content\"><pre>DecisionTreeClassifier(criterion=&#x27;entropy&#x27;, max_depth=4, min_samples_split=50,\n",
              "                       random_state=42)</pre></div></div></div></div></div>"
            ]
          },
          "metadata": {},
          "execution_count": 45
        }
      ]
    },
    {
      "cell_type": "code",
      "source": [
        "# score validation\n",
        "sk_version.score(X_fit, y_fit)"
      ],
      "metadata": {
        "colab": {
          "base_uri": "https://localhost:8080/"
        },
        "id": "37vA6wiPjP96",
        "outputId": "edb66cf8-2b6f-4462-b788-39f32e09dcd8"
      },
      "execution_count": 46,
      "outputs": [
        {
          "output_type": "execute_result",
          "data": {
            "text/plain": [
              "0.8569482288828338"
            ]
          },
          "metadata": {},
          "execution_count": 46
        }
      ]
    },
    {
      "cell_type": "code",
      "source": [
        "sk_version.score(X_val, y_val)"
      ],
      "metadata": {
        "colab": {
          "base_uri": "https://localhost:8080/"
        },
        "id": "BAa6SMrQjV2Q",
        "outputId": "a12b2afa-a4da-4898-8d9f-6d1bb0650b00"
      },
      "execution_count": 47,
      "outputs": [
        {
          "output_type": "execute_result",
          "data": {
            "text/plain": [
              "0.8315217391304348"
            ]
          },
          "metadata": {},
          "execution_count": 47
        }
      ]
    },
    {
      "cell_type": "code",
      "source": [
        "sk_version.predict(X_val)"
      ],
      "metadata": {
        "colab": {
          "base_uri": "https://localhost:8080/"
        },
        "id": "uq42OR6SjuSp",
        "outputId": "cca6311b-f1c5-45d2-c16b-a18a3d5193c7"
      },
      "execution_count": 48,
      "outputs": [
        {
          "output_type": "execute_result",
          "data": {
            "text/plain": [
              "array([0, 1, 1, 1, 0, 1, 1, 0, 1, 1, 1, 0, 1, 0, 1, 0, 0, 1, 1, 0, 1, 1,\n",
              "       0, 1, 1, 1, 0, 1, 0, 0, 1, 0, 1, 1, 1, 1, 1, 0, 1, 1, 1, 1, 1, 0,\n",
              "       0, 1, 1, 1, 1, 0, 0, 0, 1, 1, 1, 0, 0, 1, 1, 1, 0, 0, 0, 1, 0, 1,\n",
              "       1, 1, 1, 1, 0, 0, 0, 1, 0, 1, 0, 1, 0, 1, 0, 1, 1, 0, 1, 1, 0, 1,\n",
              "       0, 0, 0, 1, 1, 0, 1, 0, 1, 0, 1, 1, 0, 1, 1, 0, 0, 1, 0, 0, 1, 0,\n",
              "       1, 1, 0, 0, 1, 0, 0, 0, 1, 1, 1, 1, 0, 1, 0, 0, 0, 0, 0, 0, 0, 1,\n",
              "       1, 0, 1, 0, 1, 1, 0, 0, 0, 0, 1, 1, 1, 1, 1, 0, 0, 0, 0, 1, 1, 0,\n",
              "       1, 0, 0, 0, 0, 1, 0, 0, 1, 0, 1, 1, 0, 1, 0, 0, 1, 1, 0, 1, 0, 1,\n",
              "       0, 1, 0, 0, 1, 1, 0, 1])"
            ]
          },
          "metadata": {},
          "execution_count": 48
        }
      ]
    },
    {
      "cell_type": "code",
      "source": [
        "# create a report about score metrics\n",
        "print(classification_report(y_val, sk_version.predict(X_val)))"
      ],
      "metadata": {
        "colab": {
          "base_uri": "https://localhost:8080/"
        },
        "id": "DND07Atcjye3",
        "outputId": "5eaf6c92-2ef8-472d-d435-0337406ce1c9"
      },
      "execution_count": 49,
      "outputs": [
        {
          "output_type": "stream",
          "name": "stdout",
          "text": [
            "              precision    recall  f1-score   support\n",
            "\n",
            "           0       0.77      0.86      0.81        77\n",
            "           1       0.89      0.81      0.85       107\n",
            "\n",
            "    accuracy                           0.83       184\n",
            "   macro avg       0.83      0.84      0.83       184\n",
            "weighted avg       0.84      0.83      0.83       184\n",
            "\n"
          ]
        }
      ]
    },
    {
      "cell_type": "code",
      "source": [
        "# draw confusion matrix\n",
        "from sklearn.metrics import confusion_matrix, ConfusionMatrixDisplay\n",
        "cfs_mtx = confusion_matrix(y_val, sk_version.predict(X_val))\n",
        "disp = ConfusionMatrixDisplay(cfs_mtx)\n",
        "disp.plot()"
      ],
      "metadata": {
        "colab": {
          "base_uri": "https://localhost:8080/",
          "height": 466
        },
        "id": "lmVlNnVkkkkh",
        "outputId": "ccb55cf3-d2da-4a86-892e-4f52d39edcb0"
      },
      "execution_count": 50,
      "outputs": [
        {
          "output_type": "execute_result",
          "data": {
            "text/plain": [
              "<sklearn.metrics._plot.confusion_matrix.ConfusionMatrixDisplay at 0x786f4b764070>"
            ]
          },
          "metadata": {},
          "execution_count": 50
        },
        {
          "output_type": "display_data",
          "data": {
            "text/plain": [
              "<Figure size 640x480 with 2 Axes>"
            ],
            "image/png": "[encoded data removed]"
          },
          "metadata": {}
        }
      ]
    },
    {
      "cell_type": "markdown",
      "source": [
        "### Grid Search Cross"
      ],
      "metadata": {
        "id": "Yv-lYivYm0Lh"
      }
    },
    {
      "cell_type": "code",
      "source": [
        "# parameters for GridSearch with Cross\n",
        "from sklearn.model_selection import GridSearchCV\n",
        "param_grid = {\n",
        "  'criterion': ['entropy'],\n",
        "  'max_depth': list(range(1, 10)),\n",
        "  'min_samples_split': list(range(2, 100, 5))\n",
        "}\n",
        "# search fitting\n",
        "GSCross = GridSearchCV(estimator=sk_version, param_grid=param_grid, cv=3)\n",
        "GSCross.fit(X_fit, y_fit)"
      ],
      "metadata": {
        "colab": {
          "base_uri": "https://localhost:8080/",
          "height": 117
        },
        "id": "H-zMQX4plm-B",
        "outputId": "3ea373eb-183a-4c04-a00a-690d5ed7c1d4"
      },
      "execution_count": 51,
      "outputs": [
        {
          "output_type": "execute_result",
          "data": {
            "text/plain": [
              "GridSearchCV(cv=3,\n",
              "             estimator=DecisionTreeClassifier(criterion='entropy', max_depth=4,\n",
              "                                              min_samples_split=50,\n",
              "                                              random_state=42),\n",
              "             param_grid={'criterion': ['entropy'],\n",
              "                         'max_depth': [1, 2, 3, 4, 5, 6, 7, 8, 9],\n",
              "                         'min_samples_split': [2, 7, 12, 17, 22, 27, 32, 37, 42,\n",
              "                                               47, 52, 57, 62, 67, 72, 77, 82,\n",
              "                                               87, 92, 97]})"
            ],
            "text/html": [
              "<style>#sk-container-id-2 {color: black;background-color: white;}#sk-container-id-2 pre{padding: 0;}#sk-container-id-2 div.sk-toggleable {background-color: white;}#sk-container-id-2 label.sk-toggleable__label {cursor: pointer;display: block;width: 100%;margin-bottom: 0;padding: 0.3em;box-sizing: border-box;text-align: center;}#sk-container-id-2 label.sk-toggleable__label-arrow:before {content: \"▸\";float: left;margin-right: 0.25em;color: #696969;}#sk-container-id-2 label.sk-toggleable__label-arrow:hover:before {color: black;}#sk-container-id-2 div.sk-estimator:hover label.sk-toggleable__label-arrow:before {color: black;}#sk-container-id-2 div.sk-toggleable__content {max-height: 0;max-width: 0;overflow: hidden;text-align: left;background-color: #f0f8ff;}#sk-container-id-2 div.sk-toggleable__content pre {margin: 0.2em;color: black;border-radius: 0.25em;background-color: #f0f8ff;}#sk-container-id-2 input.sk-toggleable__control:checked~div.sk-toggleable__content {max-height: 200px;max-width: 100%;overflow: auto;}#sk-container-id-2 input.sk-toggleable__control:checked~label.sk-toggleable__label-arrow:before {content: \"▾\";}#sk-container-id-2 div.sk-estimator input.sk-toggleable__control:checked~label.sk-toggleable__label {background-color: #d4ebff;}#sk-container-id-2 div.sk-label input.sk-toggleable__control:checked~label.sk-toggleable__label {background-color: #d4ebff;}#sk-container-id-2 input.sk-hidden--visually {border: 0;clip: rect(1px 1px 1px 1px);clip: rect(1px, 1px, 1px, 1px);height: 1px;margin: -1px;overflow: hidden;padding: 0;position: absolute;width: 1px;}#sk-container-id-2 div.sk-estimator {font-family: monospace;background-color: #f0f8ff;border: 1px dotted black;border-radius: 0.25em;box-sizing: border-box;margin-bottom: 0.5em;}#sk-container-id-2 div.sk-estimator:hover {background-color: #d4ebff;}#sk-container-id-2 div.sk-parallel-item::after {content: \"\";width: 100%;border-bottom: 1px solid gray;flex-grow: 1;}#sk-container-id-2 div.sk-label:hover label.sk-toggleable__label {background-color: #d4ebff;}#sk-container-id-2 div.sk-serial::before {content: \"\";position: absolute;border-left: 1px solid gray;box-sizing: border-box;top: 0;bottom: 0;left: 50%;z-index: 0;}#sk-container-id-2 div.sk-serial {display: flex;flex-direction: column;align-items: center;background-color: white;padding-right: 0.2em;padding-left: 0.2em;position: relative;}#sk-container-id-2 div.sk-item {position: relative;z-index: 1;}#sk-container-id-2 div.sk-parallel {display: flex;align-items: stretch;justify-content: center;background-color: white;position: relative;}#sk-container-id-2 div.sk-item::before, #sk-container-id-2 div.sk-parallel-item::before {content: \"\";position: absolute;border-left: 1px solid gray;box-sizing: border-box;top: 0;bottom: 0;left: 50%;z-index: -1;}#sk-container-id-2 div.sk-parallel-item {display: flex;flex-direction: column;z-index: 1;position: relative;background-color: white;}#sk-container-id-2 div.sk-parallel-item:first-child::after {align-self: flex-end;width: 50%;}#sk-container-id-2 div.sk-parallel-item:last-child::after {align-self: flex-start;width: 50%;}#sk-container-id-2 div.sk-parallel-item:only-child::after {width: 0;}#sk-container-id-2 div.sk-dashed-wrapped {border: 1px dashed gray;margin: 0 0.4em 0.5em 0.4em;box-sizing: border-box;padding-bottom: 0.4em;background-color: white;}#sk-container-id-2 div.sk-label label {font-family: monospace;font-weight: bold;display: inline-block;line-height: 1.2em;}#sk-container-id-2 div.sk-label-container {text-align: center;}#sk-container-id-2 div.sk-container {/* jupyter's `normalize.less` sets `[hidden] { display: none; }` but bootstrap.min.css set `[hidden] { display: none !important; }` so we also need the `!important` here to be able to override the default hidden behavior on the sphinx rendered scikit-learn.org. See: https://github.com/scikit-learn/scikit-learn/issues/21755 */display: inline-block !important;position: relative;}#sk-container-id-2 div.sk-text-repr-fallback {display: none;}</style><div id=\"sk-container-id-2\" class=\"sk-top-container\"><div class=\"sk-text-repr-fallback\"><pre>GridSearchCV(cv=3,\n",
              "             estimator=DecisionTreeClassifier(criterion=&#x27;entropy&#x27;, max_depth=4,\n",
              "                                              min_samples_split=50,\n",
              "                                              random_state=42),\n",
              "             param_grid={&#x27;criterion&#x27;: [&#x27;entropy&#x27;],\n",
              "                         &#x27;max_depth&#x27;: [1, 2, 3, 4, 5, 6, 7, 8, 9],\n",
              "                         &#x27;min_samples_split&#x27;: [2, 7, 12, 17, 22, 27, 32, 37, 42,\n",
              "                                               47, 52, 57, 62, 67, 72, 77, 82,\n",
              "                                               87, 92, 97]})</pre><b>In a Jupyter environment, please rerun this cell to show the HTML representation or trust the notebook. <br />On GitHub, the HTML representation is unable to render, please try loading this page with nbviewer.org.</b></div><div class=\"sk-container\" hidden><div class=\"sk-item sk-dashed-wrapped\"><div class=\"sk-label-container\"><div class=\"sk-label sk-toggleable\"><input class=\"sk-toggleable__control sk-hidden--visually\" id=\"sk-estimator-id-2\" type=\"checkbox\" ><label for=\"sk-estimator-id-2\" class=\"sk-toggleable__label sk-toggleable__label-arrow\">GridSearchCV</label><div class=\"sk-toggleable__content\"><pre>GridSearchCV(cv=3,\n",
              "             estimator=DecisionTreeClassifier(criterion=&#x27;entropy&#x27;, max_depth=4,\n",
              "                                              min_samples_split=50,\n",
              "                                              random_state=42),\n",
              "             param_grid={&#x27;criterion&#x27;: [&#x27;entropy&#x27;],\n",
              "                         &#x27;max_depth&#x27;: [1, 2, 3, 4, 5, 6, 7, 8, 9],\n",
              "                         &#x27;min_samples_split&#x27;: [2, 7, 12, 17, 22, 27, 32, 37, 42,\n",
              "                                               47, 52, 57, 62, 67, 72, 77, 82,\n",
              "                                               87, 92, 97]})</pre></div></div></div><div class=\"sk-parallel\"><div class=\"sk-parallel-item\"><div class=\"sk-item\"><div class=\"sk-label-container\"><div class=\"sk-label sk-toggleable\"><input class=\"sk-toggleable__control sk-hidden--visually\" id=\"sk-estimator-id-3\" type=\"checkbox\" ><label for=\"sk-estimator-id-3\" class=\"sk-toggleable__label sk-toggleable__label-arrow\">estimator: DecisionTreeClassifier</label><div class=\"sk-toggleable__content\"><pre>DecisionTreeClassifier(criterion=&#x27;entropy&#x27;, max_depth=4, min_samples_split=50,\n",
              "                       random_state=42)</pre></div></div></div><div class=\"sk-serial\"><div class=\"sk-item\"><div class=\"sk-estimator sk-toggleable\"><input class=\"sk-toggleable__control sk-hidden--visually\" id=\"sk-estimator-id-4\" type=\"checkbox\" ><label for=\"sk-estimator-id-4\" class=\"sk-toggleable__label sk-toggleable__label-arrow\">DecisionTreeClassifier</label><div class=\"sk-toggleable__content\"><pre>DecisionTreeClassifier(criterion=&#x27;entropy&#x27;, max_depth=4, min_samples_split=50,\n",
              "                       random_state=42)</pre></div></div></div></div></div></div></div></div></div></div>"
            ]
          },
          "metadata": {},
          "execution_count": 51
        }
      ]
    },
    {
      "cell_type": "code",
      "source": [
        "GSCross.best_params_"
      ],
      "metadata": {
        "colab": {
          "base_uri": "https://localhost:8080/"
        },
        "id": "8K4BTh7wmRHn",
        "outputId": "c4b35457-0114-4066-d7ac-90c0c6731dae"
      },
      "execution_count": 52,
      "outputs": [
        {
          "output_type": "execute_result",
          "data": {
            "text/plain": [
              "{'criterion': 'entropy', 'max_depth': 3, 'min_samples_split': 2}"
            ]
          },
          "metadata": {},
          "execution_count": 52
        }
      ]
    },
    {
      "cell_type": "code",
      "source": [
        "GSCross.best_score_"
      ],
      "metadata": {
        "colab": {
          "base_uri": "https://localhost:8080/"
        },
        "id": "-BhBzWAPmfGY",
        "outputId": "c1d4d471-b902-4b23-c9bd-bfed17add3f7"
      },
      "execution_count": 53,
      "outputs": [
        {
          "output_type": "execute_result",
          "data": {
            "text/plain": [
              "0.8569142411062786"
            ]
          },
          "metadata": {},
          "execution_count": 53
        }
      ]
    },
    {
      "cell_type": "code",
      "source": [
        "best_est = GSCross.best_estimator_\n",
        "best_est.score(X_val, y_val)"
      ],
      "metadata": {
        "colab": {
          "base_uri": "https://localhost:8080/"
        },
        "id": "9BFQH9kWmiep",
        "outputId": "41fbf03b-e961-4e77-a35b-5875feee66fa"
      },
      "execution_count": 54,
      "outputs": [
        {
          "output_type": "execute_result",
          "data": {
            "text/plain": [
              "0.8315217391304348"
            ]
          },
          "metadata": {},
          "execution_count": 54
        }
      ]
    },
    {
      "cell_type": "markdown",
      "source": [
        "## Scratch"
      ],
      "metadata": {
        "id": "I9WEVRivm4d4"
      }
    },
    {
      "cell_type": "code",
      "source": [
        "scratch = DecisionTree(max_depth = 4, min_samples_split= 50)\n",
        "scratch.learning(X_fit, y_fit)"
      ],
      "metadata": {
        "colab": {
          "base_uri": "https://localhost:8080/"
        },
        "id": "lgEL0HHgm_c8",
        "outputId": "01f24481-62e6-43df-d69a-7a47e13b1379"
      },
      "execution_count": 55,
      "outputs": [
        {
          "output_type": "stream",
          "name": "stdout",
          "text": [
            " Depth 0, Root: Split on feature: 13\n",
            "- Depth 1, Left: Split on feature: 2\n",
            "-- Depth 2, Left: Split on feature: 9\n",
            "--- Depth 3, Left: Split on feature: 8\n",
            "    ---- Left leaf node with indices [127, 205, 256, 321, 372, 405, 416, 483, 557, 628, 694, 702, 729]\n",
            "label is:  0\n",
            "    ---- Right leaf node with indices [22, 35, 43, 49, 53, 92, 99, 108, 116, 131, 137, 142, 143, 160, 162, 221, 223, 224, 241, 251, 263, 265, 270, 320, 322, 367, 368, 385, 386, 395, 401, 414, 418, 467, 470, 476, 495, 519, 521, 528, 561, 574, 588, 589, 595, 600, 611, 647, 664, 678, 693, 698, 701, 707, 712, 730]\n",
            "label is:  0\n",
            "   --- Right leaf node with indices [6, 62, 74, 75, 86, 96, 100, 128, 150, 151, 155, 257, 292, 343, 347, 426, 432, 451, 455, 458, 474, 494, 512, 524, 538, 622, 632, 637, 657, 679, 687, 692, 699, 718, 731, 732]\n",
            "label is:  1\n",
            "-- Depth 2, Right: Split on feature: 0\n",
            "--- Depth 3, Left: Split on feature: 6\n",
            "    ---- Left leaf node with indices [104, 169, 177, 235, 330, 337, 422, 503, 542, 546, 563, 581, 584, 683, 711]\n",
            "label is:  0\n",
            "    ---- Right leaf node with indices [3, 9, 13, 39, 41, 88, 91, 103, 109, 114, 115, 124, 132, 166, 168, 195, 197, 201, 207, 216, 225, 236, 240, 246, 248, 259, 266, 280, 281, 297, 304, 307, 327, 328, 350, 351, 356, 366, 369, 397, 403, 406, 413, 435, 443, 459, 464, 480, 509, 514, 530, 533, 604, 613, 614, 617, 618, 620, 648, 658, 684, 724, 726]\n",
            "label is:  0\n",
            "--- Depth 3, Right: Split on feature: 3\n",
            "    ---- Left leaf node with indices [12, 20, 26, 28, 34, 44, 59, 66, 76, 81, 98, 105, 106, 165, 171, 183, 186, 191, 211, 213, 222, 243, 254, 285, 287, 289, 291, 302, 306, 313, 339, 363, 364, 376, 412, 421, 423, 436, 446, 457, 465, 472, 478, 497, 508, 536, 556, 558, 560, 568, 575, 593, 598, 602, 627, 633, 635, 644, 650, 655, 671, 677, 681, 695, 705, 717, 728]\n",
            "label is:  0\n",
            "    ---- Right leaf node with indices [1, 11, 27, 48, 63, 79, 117, 120, 123, 148, 153, 163, 170, 175, 189, 193, 203, 206, 210, 215, 218, 228, 238, 271, 314, 329, 358, 370, 378, 388, 392, 410, 425, 428, 431, 452, 463, 468, 485, 499, 527, 531, 547, 579, 580, 596, 624, 639, 641, 656, 674, 696, 697, 713, 714, 721, 727]\n",
            "label is:  0\n",
            "- Depth 1, Right: Split on feature: 2\n",
            "-- Depth 2, Left: Split on feature: 0\n",
            "   --- Left leaf node with indices [25, 30, 33, 149, 152, 159, 174, 202, 227, 233, 237, 245, 250, 253, 273, 279, 286, 294, 298, 331, 360, 373, 379, 429, 447, 454, 466, 482, 488, 490, 498, 502, 515, 523, 549, 586, 597, 615, 654, 665, 668, 733]\n",
            "label is:  1\n",
            "--- Depth 3, Right: Split on feature: 9\n",
            "    ---- Left leaf node with indices [4, 10, 15, 16, 18, 24, 68, 73, 80, 97, 118, 126, 133, 134, 157, 158, 161, 173, 178, 182, 194, 196, 229, 244, 255, 268, 295, 300, 308, 332, 335, 345, 361, 371, 377, 389, 399, 402, 424, 438, 448, 450, 461, 479, 492, 493, 507, 510, 511, 522, 526, 535, 540, 576, 583, 590, 594, 616, 625, 630, 634, 638, 645, 652, 660, 667, 709, 710, 720]\n",
            "label is:  1\n",
            "    ---- Right leaf node with indices [2, 5, 7, 14, 23, 29, 32, 37, 38, 40, 46, 51, 54, 55, 60, 64, 67, 72, 77, 82, 83, 84, 85, 87, 89, 93, 95, 101, 110, 112, 122, 135, 136, 138, 141, 144, 146, 147, 164, 167, 172, 180, 184, 185, 187, 188, 190, 192, 199, 204, 212, 214, 217, 219, 220, 234, 239, 247, 249, 258, 261, 262, 267, 269, 275, 276, 277, 278, 282, 283, 290, 293, 296, 299, 303, 309, 311, 312, 315, 316, 323, 324, 326, 333, 336, 338, 341, 342, 344, 352, 353, 354, 355, 357, 359, 374, 375, 382, 390, 393, 400, 407, 408, 411, 417, 419, 420, 427, 430, 433, 437, 442, 444, 445, 449, 453, 456, 462, 469, 471, 475, 481, 484, 489, 496, 501, 504, 505, 513, 516, 517, 518, 525, 532, 537, 539, 550, 551, 552, 553, 564, 566, 567, 570, 571, 572, 577, 578, 591, 592, 601, 603, 605, 607, 608, 609, 610, 612, 619, 623, 626, 629, 636, 642, 649, 651, 661, 662, 663, 666, 669, 670, 672, 673, 675, 680, 682, 685, 686, 688, 690, 691, 703, 706, 722]\n",
            "label is:  1\n",
            "-- Depth 2, Right: Split on feature: 0\n",
            "   --- Left leaf node with indices [17, 36, 45, 50, 57, 58, 69, 78, 140, 154, 226, 231, 232, 252, 288, 310, 334, 415, 460, 473, 500, 545, 565, 569, 587, 631, 640, 653, 719]\n",
            "label is:  0\n",
            "--- Depth 3, Right: Split on feature: 9\n",
            "    ---- Left leaf node with indices [0, 31, 47, 52, 56, 102, 107, 111, 113, 119, 125, 130, 139, 145, 198, 200, 209, 230, 260, 274, 284, 305, 317, 318, 346, 348, 349, 362, 380, 381, 383, 387, 391, 394, 404, 409, 434, 439, 440, 441, 477, 506, 520, 543, 544, 548, 555, 562, 582, 585, 606, 621, 646, 676, 689, 700, 704, 708]\n",
            "label is:  1\n",
            "    ---- Right leaf node with indices [8, 19, 21, 42, 61, 65, 70, 71, 90, 94, 121, 129, 156, 176, 179, 181, 208, 242, 264, 272, 301, 319, 325, 340, 365, 384, 396, 398, 486, 487, 491, 529, 534, 541, 554, 559, 573, 599, 643, 659, 715, 716, 723, 725]\n",
            "label is:  1\n"
          ]
        }
      ]
    },
    {
      "cell_type": "code",
      "source": [
        "accuracy_score(y_val, scratch.makePredictions(X_val))"
      ],
      "metadata": {
        "colab": {
          "base_uri": "https://localhost:8080/"
        },
        "id": "0Lp8jThGnr-x",
        "outputId": "e2aec491-a305-4151-98c7-90e788a35712"
      },
      "execution_count": 56,
      "outputs": [
        {
          "output_type": "execute_result",
          "data": {
            "text/plain": [
              "0.8315217391304348"
            ]
          },
          "metadata": {},
          "execution_count": 56
        }
      ]
    },
    {
      "cell_type": "code",
      "source": [
        "accuracy_score(y_fit, scratch.makePredictions(X_fit))"
      ],
      "metadata": {
        "colab": {
          "base_uri": "https://localhost:8080/"
        },
        "id": "sou7bbbWntLa",
        "outputId": "c0c3ee56-00b8-42b2-8ec7-5acbb75acfdf"
      },
      "execution_count": 57,
      "outputs": [
        {
          "output_type": "execute_result",
          "data": {
            "text/plain": [
              "0.8569482288828338"
            ]
          },
          "metadata": {},
          "execution_count": 57
        }
      ]
    },
    {
      "cell_type": "code",
      "source": [
        "scratch = DecisionTree(max_depth = 3, min_samples_split= 2)\n",
        "scratch.learning(X_fit, y_fit)"
      ],
      "metadata": {
        "colab": {
          "base_uri": "https://localhost:8080/"
        },
        "id": "yjxWQsgVnx-W",
        "outputId": "d9f5f9aa-21a8-4b87-990a-b6946d7dd702"
      },
      "execution_count": 58,
      "outputs": [
        {
          "output_type": "stream",
          "name": "stdout",
          "text": [
            " Depth 0, Root: Split on feature: 13\n",
            "- Depth 1, Left: Split on feature: 2\n",
            "-- Depth 2, Left: Split on feature: 9\n",
            "   --- Left leaf node with indices [22, 35, 43, 49, 53, 92, 99, 108, 116, 127, 131, 137, 142, 143, 160, 162, 205, 221, 223, 224, 241, 251, 256, 263, 265, 270, 320, 321, 322, 367, 368, 372, 385, 386, 395, 401, 405, 414, 416, 418, 467, 470, 476, 483, 495, 519, 521, 528, 557, 561, 574, 588, 589, 595, 600, 611, 628, 647, 664, 678, 693, 694, 698, 701, 702, 707, 712, 729, 730]\n",
            "label is:  0\n",
            "   --- Right leaf node with indices [6, 62, 74, 75, 86, 96, 100, 128, 150, 151, 155, 257, 292, 343, 347, 426, 432, 451, 455, 458, 474, 494, 512, 524, 538, 622, 632, 637, 657, 679, 687, 692, 699, 718, 731, 732]\n",
            "label is:  1\n",
            "-- Depth 2, Right: Split on feature: 0\n",
            "   --- Left leaf node with indices [3, 9, 13, 39, 41, 88, 91, 103, 104, 109, 114, 115, 124, 132, 166, 168, 169, 177, 195, 197, 201, 207, 216, 225, 235, 236, 240, 246, 248, 259, 266, 280, 281, 297, 304, 307, 327, 328, 330, 337, 350, 351, 356, 366, 369, 397, 403, 406, 413, 422, 435, 443, 459, 464, 480, 503, 509, 514, 530, 533, 542, 546, 563, 581, 584, 604, 613, 614, 617, 618, 620, 648, 658, 683, 684, 711, 724, 726]\n",
            "label is:  0\n",
            "   --- Right leaf node with indices [1, 11, 12, 20, 26, 27, 28, 34, 44, 48, 59, 63, 66, 76, 79, 81, 98, 105, 106, 117, 120, 123, 148, 153, 163, 165, 170, 171, 175, 183, 186, 189, 191, 193, 203, 206, 210, 211, 213, 215, 218, 222, 228, 238, 243, 254, 271, 285, 287, 289, 291, 302, 306, 313, 314, 329, 339, 358, 363, 364, 370, 376, 378, 388, 392, 410, 412, 421, 423, 425, 428, 431, 436, 446, 452, 457, 463, 465, 468, 472, 478, 485, 497, 499, 508, 527, 531, 536, 547, 556, 558, 560, 568, 575, 579, 580, 593, 596, 598, 602, 624, 627, 633, 635, 639, 641, 644, 650, 655, 656, 671, 674, 677, 681, 695, 696, 697, 705, 713, 714, 717, 721, 727, 728]\n",
            "label is:  0\n",
            "- Depth 1, Right: Split on feature: 2\n",
            "-- Depth 2, Left: Split on feature: 0\n",
            "   --- Left leaf node with indices [25, 30, 33, 149, 152, 159, 174, 202, 227, 233, 237, 245, 250, 253, 273, 279, 286, 294, 298, 331, 360, 373, 379, 429, 447, 454, 466, 482, 488, 490, 498, 502, 515, 523, 549, 586, 597, 615, 654, 665, 668, 733]\n",
            "label is:  1\n",
            "   --- Right leaf node with indices [2, 4, 5, 7, 10, 14, 15, 16, 18, 23, 24, 29, 32, 37, 38, 40, 46, 51, 54, 55, 60, 64, 67, 68, 72, 73, 77, 80, 82, 83, 84, 85, 87, 89, 93, 95, 97, 101, 110, 112, 118, 122, 126, 133, 134, 135, 136, 138, 141, 144, 146, 147, 157, 158, 161, 164, 167, 172, 173, 178, 180, 182, 184, 185, 187, 188, 190, 192, 194, 196, 199, 204, 212, 214, 217, 219, 220, 229, 234, 239, 244, 247, 249, 255, 258, 261, 262, 267, 268, 269, 275, 276, 277, 278, 282, 283, 290, 293, 295, 296, 299, 300, 303, 308, 309, 311, 312, 315, 316, 323, 324, 326, 332, 333, 335, 336, 338, 341, 342, 344, 345, 352, 353, 354, 355, 357, 359, 361, 371, 374, 375, 377, 382, 389, 390, 393, 399, 400, 402, 407, 408, 411, 417, 419, 420, 424, 427, 430, 433, 437, 438, 442, 444, 445, 448, 449, 450, 453, 456, 461, 462, 469, 471, 475, 479, 481, 484, 489, 492, 493, 496, 501, 504, 505, 507, 510, 511, 513, 516, 517, 518, 522, 525, 526, 532, 535, 537, 539, 540, 550, 551, 552, 553, 564, 566, 567, 570, 571, 572, 576, 577, 578, 583, 590, 591, 592, 594, 601, 603, 605, 607, 608, 609, 610, 612, 616, 619, 623, 625, 626, 629, 630, 634, 636, 638, 642, 645, 649, 651, 652, 660, 661, 662, 663, 666, 667, 669, 670, 672, 673, 675, 680, 682, 685, 686, 688, 690, 691, 703, 706, 709, 710, 720, 722]\n",
            "label is:  1\n",
            "-- Depth 2, Right: Split on feature: 0\n",
            "   --- Left leaf node with indices [17, 36, 45, 50, 57, 58, 69, 78, 140, 154, 226, 231, 232, 252, 288, 310, 334, 415, 460, 473, 500, 545, 565, 569, 587, 631, 640, 653, 719]\n",
            "label is:  0\n",
            "   --- Right leaf node with indices [0, 8, 19, 21, 31, 42, 47, 52, 56, 61, 65, 70, 71, 90, 94, 102, 107, 111, 113, 119, 121, 125, 129, 130, 139, 145, 156, 176, 179, 181, 198, 200, 208, 209, 230, 242, 260, 264, 272, 274, 284, 301, 305, 317, 318, 319, 325, 340, 346, 348, 349, 362, 365, 380, 381, 383, 384, 387, 391, 394, 396, 398, 404, 409, 434, 439, 440, 441, 477, 486, 487, 491, 506, 520, 529, 534, 541, 543, 544, 548, 554, 555, 559, 562, 573, 582, 585, 599, 606, 621, 643, 646, 659, 676, 689, 700, 704, 708, 715, 716, 723, 725]\n",
            "label is:  1\n"
          ]
        }
      ]
    },
    {
      "cell_type": "code",
      "source": [
        "print(accuracy_score(y_val, scratch.makePredictions(X_val)))\n",
        "print(accuracy_score(y_fit, scratch.makePredictions(X_fit)))"
      ],
      "metadata": {
        "colab": {
          "base_uri": "https://localhost:8080/"
        },
        "id": "HwisoAu9n3We",
        "outputId": "9822a57c-cf7c-40ac-a905-f848989f9577"
      },
      "execution_count": 59,
      "outputs": [
        {
          "output_type": "stream",
          "name": "stdout",
          "text": [
            "0.8315217391304348\n",
            "0.8569482288828338\n"
          ]
        }
      ]
    },
    {
      "cell_type": "markdown",
      "source": [
        "## Conclude:\n",
        "- The score of Scratch Version is equal with Sklearn Version"
      ],
      "metadata": {
        "id": "viaPGQ7Cn_3m"
      }
    }
  ]
}